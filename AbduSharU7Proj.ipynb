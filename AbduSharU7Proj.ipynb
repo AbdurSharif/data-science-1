{
  "nbformat": 4,
  "nbformat_minor": 0,
  "metadata": {
    "colab": {
      "provenance": []
    },
    "kernelspec": {
      "name": "python3",
      "display_name": "Python 3"
    },
    "language_info": {
      "name": "python"
    },
    "widgets": {
      "application/vnd.jupyter.widget-state+json": {
        "fa5fe8d42d084de8bf1822ad4b67f401": {
          "model_module": "@jupyter-widgets/output",
          "model_name": "OutputModel",
          "model_module_version": "1.0.0",
          "state": {
            "_dom_classes": [],
            "_model_module": "@jupyter-widgets/output",
            "_model_module_version": "1.0.0",
            "_model_name": "OutputModel",
            "_view_count": null,
            "_view_module": "@jupyter-widgets/output",
            "_view_module_version": "1.0.0",
            "_view_name": "OutputView",
            "layout": "IPY_MODEL_6cf55c3af1144168a22b5f87c8429f45",
            "msg_id": "",
            "outputs": [
              {
                "output_type": "display_data",
                "data": {
                  "text/plain": "                                                                                                                   \n \u001b[1m \u001b[0m\u001b[1mProgress                 \u001b[0m\u001b[1m \u001b[0m \u001b[1m \u001b[0m\u001b[1mDraws\u001b[0m\u001b[1m \u001b[0m \u001b[1m \u001b[0m\u001b[1mDivergences\u001b[0m\u001b[1m \u001b[0m \u001b[1m \u001b[0m\u001b[1mStep size\u001b[0m\u001b[1m \u001b[0m \u001b[1m \u001b[0m\u001b[1mGrad evals\u001b[0m\u001b[1m \u001b[0m \u001b[1m \u001b[0m\u001b[1mSampling Speed\u001b[0m\u001b[1m \u001b[0m \u001b[1m \u001b[0m\u001b[1mElapsed\u001b[0m\u001b[1m \u001b[0m \u001b[1m \u001b[0m\u001b[1mRemaining\u001b[0m\u001b[1m \u001b[0m \n ───────────────────────────────────────────────────────────────────────────────────────────────────────────────── \n  \u001b[38;2;31;119;180m━━━━━━━━━━━━━━━━━━━━━━━━━\u001b[0m   2000    0             0.77        3            859.14 draws/s   0:00:02   0:00:00    \n  \u001b[38;2;31;119;180m━━━━━━━━━━━━━━━━━━━━━━━━━\u001b[0m   2000    0             1.20        7            406.57 draws/s   0:00:04   0:00:00    \n                                                                                                                   \n",
                  "text/html": "<pre style=\"white-space:pre;overflow-x:auto;line-height:normal;font-family:Menlo,'DejaVu Sans Mono',consolas,'Courier New',monospace\">                                                                                                                   \n <span style=\"font-weight: bold\"> Progress                  </span> <span style=\"font-weight: bold\"> Draws </span> <span style=\"font-weight: bold\"> Divergences </span> <span style=\"font-weight: bold\"> Step size </span> <span style=\"font-weight: bold\"> Grad evals </span> <span style=\"font-weight: bold\"> Sampling Speed </span> <span style=\"font-weight: bold\"> Elapsed </span> <span style=\"font-weight: bold\"> Remaining </span> \n ───────────────────────────────────────────────────────────────────────────────────────────────────────────────── \n  <span style=\"color: #1f77b4; text-decoration-color: #1f77b4\">━━━━━━━━━━━━━━━━━━━━━━━━━</span>   2000    0             0.77        3            859.14 draws/s   0:00:02   0:00:00    \n  <span style=\"color: #1f77b4; text-decoration-color: #1f77b4\">━━━━━━━━━━━━━━━━━━━━━━━━━</span>   2000    0             1.20        7            406.57 draws/s   0:00:04   0:00:00    \n                                                                                                                   \n</pre>\n"
                },
                "metadata": {}
              }
            ]
          }
        },
        "6cf55c3af1144168a22b5f87c8429f45": {
          "model_module": "@jupyter-widgets/base",
          "model_name": "LayoutModel",
          "model_module_version": "1.2.0",
          "state": {
            "_model_module": "@jupyter-widgets/base",
            "_model_module_version": "1.2.0",
            "_model_name": "LayoutModel",
            "_view_count": null,
            "_view_module": "@jupyter-widgets/base",
            "_view_module_version": "1.2.0",
            "_view_name": "LayoutView",
            "align_content": null,
            "align_items": null,
            "align_self": null,
            "border": null,
            "bottom": null,
            "display": null,
            "flex": null,
            "flex_flow": null,
            "grid_area": null,
            "grid_auto_columns": null,
            "grid_auto_flow": null,
            "grid_auto_rows": null,
            "grid_column": null,
            "grid_gap": null,
            "grid_row": null,
            "grid_template_areas": null,
            "grid_template_columns": null,
            "grid_template_rows": null,
            "height": null,
            "justify_content": null,
            "justify_items": null,
            "left": null,
            "margin": null,
            "max_height": null,
            "max_width": null,
            "min_height": null,
            "min_width": null,
            "object_fit": null,
            "object_position": null,
            "order": null,
            "overflow": null,
            "overflow_x": null,
            "overflow_y": null,
            "padding": null,
            "right": null,
            "top": null,
            "visibility": null,
            "width": null
          }
        },
        "1949a1d23bdf45fb961c6bf5ef073bf1": {
          "model_module": "@jupyter-widgets/output",
          "model_name": "OutputModel",
          "model_module_version": "1.0.0",
          "state": {
            "_dom_classes": [],
            "_model_module": "@jupyter-widgets/output",
            "_model_module_version": "1.0.0",
            "_model_name": "OutputModel",
            "_view_count": null,
            "_view_module": "@jupyter-widgets/output",
            "_view_module_version": "1.0.0",
            "_view_name": "OutputView",
            "layout": "IPY_MODEL_faf4936d90c54260a0f3065056779bce",
            "msg_id": "",
            "outputs": [
              {
                "output_type": "display_data",
                "data": {
                  "text/plain": "                                                                                                                   \n \u001b[1m \u001b[0m\u001b[1mProgress                 \u001b[0m\u001b[1m \u001b[0m \u001b[1m \u001b[0m\u001b[1mDraws\u001b[0m\u001b[1m \u001b[0m \u001b[1m \u001b[0m\u001b[1mDivergences\u001b[0m\u001b[1m \u001b[0m \u001b[1m \u001b[0m\u001b[1mStep size\u001b[0m\u001b[1m \u001b[0m \u001b[1m \u001b[0m\u001b[1mGrad evals\u001b[0m\u001b[1m \u001b[0m \u001b[1m \u001b[0m\u001b[1mSampling Speed\u001b[0m\u001b[1m \u001b[0m \u001b[1m \u001b[0m\u001b[1mElapsed\u001b[0m\u001b[1m \u001b[0m \u001b[1m \u001b[0m\u001b[1mRemaining\u001b[0m\u001b[1m \u001b[0m \n ───────────────────────────────────────────────────────────────────────────────────────────────────────────────── \n  \u001b[38;2;31;119;180m━━━━━━━━━━━━━━━━━━━━━━━━━\u001b[0m   2000    0             0.34        7            163.86 draws/s   0:00:12   0:00:00    \n  \u001b[38;2;31;119;180m━━━━━━━━━━━━━━━━━━━━━━━━━\u001b[0m   2000    0             0.29        15           97.00 draws/s    0:00:20   0:00:00    \n                                                                                                                   \n",
                  "text/html": "<pre style=\"white-space:pre;overflow-x:auto;line-height:normal;font-family:Menlo,'DejaVu Sans Mono',consolas,'Courier New',monospace\">                                                                                                                   \n <span style=\"font-weight: bold\"> Progress                  </span> <span style=\"font-weight: bold\"> Draws </span> <span style=\"font-weight: bold\"> Divergences </span> <span style=\"font-weight: bold\"> Step size </span> <span style=\"font-weight: bold\"> Grad evals </span> <span style=\"font-weight: bold\"> Sampling Speed </span> <span style=\"font-weight: bold\"> Elapsed </span> <span style=\"font-weight: bold\"> Remaining </span> \n ───────────────────────────────────────────────────────────────────────────────────────────────────────────────── \n  <span style=\"color: #1f77b4; text-decoration-color: #1f77b4\">━━━━━━━━━━━━━━━━━━━━━━━━━</span>   2000    0             0.34        7            163.86 draws/s   0:00:12   0:00:00    \n  <span style=\"color: #1f77b4; text-decoration-color: #1f77b4\">━━━━━━━━━━━━━━━━━━━━━━━━━</span>   2000    0             0.29        15           97.00 draws/s    0:00:20   0:00:00    \n                                                                                                                   \n</pre>\n"
                },
                "metadata": {}
              }
            ]
          }
        },
        "faf4936d90c54260a0f3065056779bce": {
          "model_module": "@jupyter-widgets/base",
          "model_name": "LayoutModel",
          "model_module_version": "1.2.0",
          "state": {
            "_model_module": "@jupyter-widgets/base",
            "_model_module_version": "1.2.0",
            "_model_name": "LayoutModel",
            "_view_count": null,
            "_view_module": "@jupyter-widgets/base",
            "_view_module_version": "1.2.0",
            "_view_name": "LayoutView",
            "align_content": null,
            "align_items": null,
            "align_self": null,
            "border": null,
            "bottom": null,
            "display": null,
            "flex": null,
            "flex_flow": null,
            "grid_area": null,
            "grid_auto_columns": null,
            "grid_auto_flow": null,
            "grid_auto_rows": null,
            "grid_column": null,
            "grid_gap": null,
            "grid_row": null,
            "grid_template_areas": null,
            "grid_template_columns": null,
            "grid_template_rows": null,
            "height": null,
            "justify_content": null,
            "justify_items": null,
            "left": null,
            "margin": null,
            "max_height": null,
            "max_width": null,
            "min_height": null,
            "min_width": null,
            "object_fit": null,
            "object_position": null,
            "order": null,
            "overflow": null,
            "overflow_x": null,
            "overflow_y": null,
            "padding": null,
            "right": null,
            "top": null,
            "visibility": null,
            "width": null
          }
        },
        "d6c36cadadc14e0096f32c2ad0846641": {
          "model_module": "@jupyter-widgets/output",
          "model_name": "OutputModel",
          "model_module_version": "1.0.0",
          "state": {
            "_dom_classes": [],
            "_model_module": "@jupyter-widgets/output",
            "_model_module_version": "1.0.0",
            "_model_name": "OutputModel",
            "_view_count": null,
            "_view_module": "@jupyter-widgets/output",
            "_view_module_version": "1.0.0",
            "_view_name": "OutputView",
            "layout": "IPY_MODEL_064acce706ef4f95b68298e4e969e059",
            "msg_id": "",
            "outputs": [
              {
                "output_type": "display_data",
                "data": {
                  "text/plain": "                                                                                                                   \n \u001b[1m \u001b[0m\u001b[1mProgress                 \u001b[0m\u001b[1m \u001b[0m \u001b[1m \u001b[0m\u001b[1mDraws\u001b[0m\u001b[1m \u001b[0m \u001b[1m \u001b[0m\u001b[1mDivergences\u001b[0m\u001b[1m \u001b[0m \u001b[1m \u001b[0m\u001b[1mStep size\u001b[0m\u001b[1m \u001b[0m \u001b[1m \u001b[0m\u001b[1mGrad evals\u001b[0m\u001b[1m \u001b[0m \u001b[1m \u001b[0m\u001b[1mSampling Speed\u001b[0m\u001b[1m \u001b[0m \u001b[1m \u001b[0m\u001b[1mElapsed\u001b[0m\u001b[1m \u001b[0m \u001b[1m \u001b[0m\u001b[1mRemaining\u001b[0m\u001b[1m \u001b[0m \n ───────────────────────────────────────────────────────────────────────────────────────────────────────────────── \n  \u001b[38;2;31;119;180m━━━━━━━━━━━━━━━━━━━━━━━━━\u001b[0m   2000    0             0.37        15           364.38 draws/s   0:00:05   0:00:00    \n  \u001b[38;2;31;119;180m━━━━━━━━━━━━━━━━━━━━━━━━━\u001b[0m   2000    0             0.33        7            169.08 draws/s   0:00:11   0:00:00    \n                                                                                                                   \n",
                  "text/html": "<pre style=\"white-space:pre;overflow-x:auto;line-height:normal;font-family:Menlo,'DejaVu Sans Mono',consolas,'Courier New',monospace\">                                                                                                                   \n <span style=\"font-weight: bold\"> Progress                  </span> <span style=\"font-weight: bold\"> Draws </span> <span style=\"font-weight: bold\"> Divergences </span> <span style=\"font-weight: bold\"> Step size </span> <span style=\"font-weight: bold\"> Grad evals </span> <span style=\"font-weight: bold\"> Sampling Speed </span> <span style=\"font-weight: bold\"> Elapsed </span> <span style=\"font-weight: bold\"> Remaining </span> \n ───────────────────────────────────────────────────────────────────────────────────────────────────────────────── \n  <span style=\"color: #1f77b4; text-decoration-color: #1f77b4\">━━━━━━━━━━━━━━━━━━━━━━━━━</span>   2000    0             0.37        15           364.38 draws/s   0:00:05   0:00:00    \n  <span style=\"color: #1f77b4; text-decoration-color: #1f77b4\">━━━━━━━━━━━━━━━━━━━━━━━━━</span>   2000    0             0.33        7            169.08 draws/s   0:00:11   0:00:00    \n                                                                                                                   \n</pre>\n"
                },
                "metadata": {}
              }
            ]
          }
        },
        "064acce706ef4f95b68298e4e969e059": {
          "model_module": "@jupyter-widgets/base",
          "model_name": "LayoutModel",
          "model_module_version": "1.2.0",
          "state": {
            "_model_module": "@jupyter-widgets/base",
            "_model_module_version": "1.2.0",
            "_model_name": "LayoutModel",
            "_view_count": null,
            "_view_module": "@jupyter-widgets/base",
            "_view_module_version": "1.2.0",
            "_view_name": "LayoutView",
            "align_content": null,
            "align_items": null,
            "align_self": null,
            "border": null,
            "bottom": null,
            "display": null,
            "flex": null,
            "flex_flow": null,
            "grid_area": null,
            "grid_auto_columns": null,
            "grid_auto_flow": null,
            "grid_auto_rows": null,
            "grid_column": null,
            "grid_gap": null,
            "grid_row": null,
            "grid_template_areas": null,
            "grid_template_columns": null,
            "grid_template_rows": null,
            "height": null,
            "justify_content": null,
            "justify_items": null,
            "left": null,
            "margin": null,
            "max_height": null,
            "max_width": null,
            "min_height": null,
            "min_width": null,
            "object_fit": null,
            "object_position": null,
            "order": null,
            "overflow": null,
            "overflow_x": null,
            "overflow_y": null,
            "padding": null,
            "right": null,
            "top": null,
            "visibility": null,
            "width": null
          }
        },
        "238294f67d7e45a2b093c6630f6ccbc6": {
          "model_module": "@jupyter-widgets/output",
          "model_name": "OutputModel",
          "model_module_version": "1.0.0",
          "state": {
            "_dom_classes": [],
            "_model_module": "@jupyter-widgets/output",
            "_model_module_version": "1.0.0",
            "_model_name": "OutputModel",
            "_view_count": null,
            "_view_module": "@jupyter-widgets/output",
            "_view_module_version": "1.0.0",
            "_view_name": "OutputView",
            "layout": "IPY_MODEL_ab34ea9ad91c46ce877a4254d234828b",
            "msg_id": "",
            "outputs": [
              {
                "output_type": "display_data",
                "data": {
                  "text/plain": "                                                                                                                   \n \u001b[1m \u001b[0m\u001b[1mProgress                 \u001b[0m\u001b[1m \u001b[0m \u001b[1m \u001b[0m\u001b[1mDraws\u001b[0m\u001b[1m \u001b[0m \u001b[1m \u001b[0m\u001b[1mDivergences\u001b[0m\u001b[1m \u001b[0m \u001b[1m \u001b[0m\u001b[1mStep size\u001b[0m\u001b[1m \u001b[0m \u001b[1m \u001b[0m\u001b[1mGrad evals\u001b[0m\u001b[1m \u001b[0m \u001b[1m \u001b[0m\u001b[1mSampling Speed\u001b[0m\u001b[1m \u001b[0m \u001b[1m \u001b[0m\u001b[1mElapsed\u001b[0m\u001b[1m \u001b[0m \u001b[1m \u001b[0m\u001b[1mRemaining\u001b[0m\u001b[1m \u001b[0m \n ───────────────────────────────────────────────────────────────────────────────────────────────────────────────── \n  \u001b[38;2;31;119;180m━━━━━━━━━━━━━━━━━━━━━━━━━\u001b[0m   2000    0             0.42        7            314.45 draws/s   0:00:06   0:00:00    \n  \u001b[38;2;31;119;180m━━━━━━━━━━━━━━━━━━━━━━━━━\u001b[0m   2000    0             0.34        15           175.50 draws/s   0:00:11   0:00:00    \n                                                                                                                   \n",
                  "text/html": "<pre style=\"white-space:pre;overflow-x:auto;line-height:normal;font-family:Menlo,'DejaVu Sans Mono',consolas,'Courier New',monospace\">                                                                                                                   \n <span style=\"font-weight: bold\"> Progress                  </span> <span style=\"font-weight: bold\"> Draws </span> <span style=\"font-weight: bold\"> Divergences </span> <span style=\"font-weight: bold\"> Step size </span> <span style=\"font-weight: bold\"> Grad evals </span> <span style=\"font-weight: bold\"> Sampling Speed </span> <span style=\"font-weight: bold\"> Elapsed </span> <span style=\"font-weight: bold\"> Remaining </span> \n ───────────────────────────────────────────────────────────────────────────────────────────────────────────────── \n  <span style=\"color: #1f77b4; text-decoration-color: #1f77b4\">━━━━━━━━━━━━━━━━━━━━━━━━━</span>   2000    0             0.42        7            314.45 draws/s   0:00:06   0:00:00    \n  <span style=\"color: #1f77b4; text-decoration-color: #1f77b4\">━━━━━━━━━━━━━━━━━━━━━━━━━</span>   2000    0             0.34        15           175.50 draws/s   0:00:11   0:00:00    \n                                                                                                                   \n</pre>\n"
                },
                "metadata": {}
              }
            ]
          }
        },
        "ab34ea9ad91c46ce877a4254d234828b": {
          "model_module": "@jupyter-widgets/base",
          "model_name": "LayoutModel",
          "model_module_version": "1.2.0",
          "state": {
            "_model_module": "@jupyter-widgets/base",
            "_model_module_version": "1.2.0",
            "_model_name": "LayoutModel",
            "_view_count": null,
            "_view_module": "@jupyter-widgets/base",
            "_view_module_version": "1.2.0",
            "_view_name": "LayoutView",
            "align_content": null,
            "align_items": null,
            "align_self": null,
            "border": null,
            "bottom": null,
            "display": null,
            "flex": null,
            "flex_flow": null,
            "grid_area": null,
            "grid_auto_columns": null,
            "grid_auto_flow": null,
            "grid_auto_rows": null,
            "grid_column": null,
            "grid_gap": null,
            "grid_row": null,
            "grid_template_areas": null,
            "grid_template_columns": null,
            "grid_template_rows": null,
            "height": null,
            "justify_content": null,
            "justify_items": null,
            "left": null,
            "margin": null,
            "max_height": null,
            "max_width": null,
            "min_height": null,
            "min_width": null,
            "object_fit": null,
            "object_position": null,
            "order": null,
            "overflow": null,
            "overflow_x": null,
            "overflow_y": null,
            "padding": null,
            "right": null,
            "top": null,
            "visibility": null,
            "width": null
          }
        },
        "93a25bc735aa40a88f05ad564934cdbd": {
          "model_module": "@jupyter-widgets/output",
          "model_name": "OutputModel",
          "model_module_version": "1.0.0",
          "state": {
            "_dom_classes": [],
            "_model_module": "@jupyter-widgets/output",
            "_model_module_version": "1.0.0",
            "_model_name": "OutputModel",
            "_view_count": null,
            "_view_module": "@jupyter-widgets/output",
            "_view_module_version": "1.0.0",
            "_view_name": "OutputView",
            "layout": "IPY_MODEL_3bf4bc2561474c88b50b0109e1905fb9",
            "msg_id": "",
            "outputs": [
              {
                "output_type": "display_data",
                "data": {
                  "text/plain": "                                                                                                                   \n \u001b[1m \u001b[0m\u001b[1mProgress                 \u001b[0m\u001b[1m \u001b[0m \u001b[1m \u001b[0m\u001b[1mDraws\u001b[0m\u001b[1m \u001b[0m \u001b[1m \u001b[0m\u001b[1mDivergences\u001b[0m\u001b[1m \u001b[0m \u001b[1m \u001b[0m\u001b[1mStep size\u001b[0m\u001b[1m \u001b[0m \u001b[1m \u001b[0m\u001b[1mGrad evals\u001b[0m\u001b[1m \u001b[0m \u001b[1m \u001b[0m\u001b[1mSampling Speed\u001b[0m\u001b[1m \u001b[0m \u001b[1m \u001b[0m\u001b[1mElapsed\u001b[0m\u001b[1m \u001b[0m \u001b[1m \u001b[0m\u001b[1mRemaining\u001b[0m\u001b[1m \u001b[0m \n ───────────────────────────────────────────────────────────────────────────────────────────────────────────────── \n  \u001b[38;2;31;119;180m━━━━━━━━━━━━━━━━━━━━━━━━━\u001b[0m   2000    0             0.55        7            462.66 draws/s   0:00:04   0:00:00    \n  \u001b[38;2;31;119;180m━━━━━━━━━━━━━━━━━━━━━━━━━\u001b[0m   2000    0             0.47        7            251.64 draws/s   0:00:07   0:00:00    \n                                                                                                                   \n",
                  "text/html": "<pre style=\"white-space:pre;overflow-x:auto;line-height:normal;font-family:Menlo,'DejaVu Sans Mono',consolas,'Courier New',monospace\">                                                                                                                   \n <span style=\"font-weight: bold\"> Progress                  </span> <span style=\"font-weight: bold\"> Draws </span> <span style=\"font-weight: bold\"> Divergences </span> <span style=\"font-weight: bold\"> Step size </span> <span style=\"font-weight: bold\"> Grad evals </span> <span style=\"font-weight: bold\"> Sampling Speed </span> <span style=\"font-weight: bold\"> Elapsed </span> <span style=\"font-weight: bold\"> Remaining </span> \n ───────────────────────────────────────────────────────────────────────────────────────────────────────────────── \n  <span style=\"color: #1f77b4; text-decoration-color: #1f77b4\">━━━━━━━━━━━━━━━━━━━━━━━━━</span>   2000    0             0.55        7            462.66 draws/s   0:00:04   0:00:00    \n  <span style=\"color: #1f77b4; text-decoration-color: #1f77b4\">━━━━━━━━━━━━━━━━━━━━━━━━━</span>   2000    0             0.47        7            251.64 draws/s   0:00:07   0:00:00    \n                                                                                                                   \n</pre>\n"
                },
                "metadata": {}
              }
            ]
          }
        },
        "3bf4bc2561474c88b50b0109e1905fb9": {
          "model_module": "@jupyter-widgets/base",
          "model_name": "LayoutModel",
          "model_module_version": "1.2.0",
          "state": {
            "_model_module": "@jupyter-widgets/base",
            "_model_module_version": "1.2.0",
            "_model_name": "LayoutModel",
            "_view_count": null,
            "_view_module": "@jupyter-widgets/base",
            "_view_module_version": "1.2.0",
            "_view_name": "LayoutView",
            "align_content": null,
            "align_items": null,
            "align_self": null,
            "border": null,
            "bottom": null,
            "display": null,
            "flex": null,
            "flex_flow": null,
            "grid_area": null,
            "grid_auto_columns": null,
            "grid_auto_flow": null,
            "grid_auto_rows": null,
            "grid_column": null,
            "grid_gap": null,
            "grid_row": null,
            "grid_template_areas": null,
            "grid_template_columns": null,
            "grid_template_rows": null,
            "height": null,
            "justify_content": null,
            "justify_items": null,
            "left": null,
            "margin": null,
            "max_height": null,
            "max_width": null,
            "min_height": null,
            "min_width": null,
            "object_fit": null,
            "object_position": null,
            "order": null,
            "overflow": null,
            "overflow_x": null,
            "overflow_y": null,
            "padding": null,
            "right": null,
            "top": null,
            "visibility": null,
            "width": null
          }
        },
        "4faf7168d69540ce9fcfef518bc9670a": {
          "model_module": "@jupyter-widgets/output",
          "model_name": "OutputModel",
          "model_module_version": "1.0.0",
          "state": {
            "_dom_classes": [],
            "_model_module": "@jupyter-widgets/output",
            "_model_module_version": "1.0.0",
            "_model_name": "OutputModel",
            "_view_count": null,
            "_view_module": "@jupyter-widgets/output",
            "_view_module_version": "1.0.0",
            "_view_name": "OutputView",
            "layout": "IPY_MODEL_82905b03841b4f75ae4ddb43c46ab0e0",
            "msg_id": "",
            "outputs": [
              {
                "output_type": "display_data",
                "data": {
                  "text/plain": "                                                                                                                   \n \u001b[1m \u001b[0m\u001b[1mProgress                 \u001b[0m\u001b[1m \u001b[0m \u001b[1m \u001b[0m\u001b[1mDraws\u001b[0m\u001b[1m \u001b[0m \u001b[1m \u001b[0m\u001b[1mDivergences\u001b[0m\u001b[1m \u001b[0m \u001b[1m \u001b[0m\u001b[1mStep size\u001b[0m\u001b[1m \u001b[0m \u001b[1m \u001b[0m\u001b[1mGrad evals\u001b[0m\u001b[1m \u001b[0m \u001b[1m \u001b[0m\u001b[1mSampling Speed\u001b[0m\u001b[1m \u001b[0m \u001b[1m \u001b[0m\u001b[1mElapsed\u001b[0m\u001b[1m \u001b[0m \u001b[1m \u001b[0m\u001b[1mRemaining\u001b[0m\u001b[1m \u001b[0m \n ───────────────────────────────────────────────────────────────────────────────────────────────────────────────── \n  \u001b[38;2;31;119;180m━━━━━━━━━━━━━━━━━━━━━━━━━\u001b[0m   2000    0             0.51        15           365.14 draws/s   0:00:05   0:00:00    \n  \u001b[38;2;31;119;180m━━━━━━━━━━━━━━━━━━━━━━━━━\u001b[0m   2000    0             0.39        15           168.64 draws/s   0:00:11   0:00:00    \n                                                                                                                   \n",
                  "text/html": "<pre style=\"white-space:pre;overflow-x:auto;line-height:normal;font-family:Menlo,'DejaVu Sans Mono',consolas,'Courier New',monospace\">                                                                                                                   \n <span style=\"font-weight: bold\"> Progress                  </span> <span style=\"font-weight: bold\"> Draws </span> <span style=\"font-weight: bold\"> Divergences </span> <span style=\"font-weight: bold\"> Step size </span> <span style=\"font-weight: bold\"> Grad evals </span> <span style=\"font-weight: bold\"> Sampling Speed </span> <span style=\"font-weight: bold\"> Elapsed </span> <span style=\"font-weight: bold\"> Remaining </span> \n ───────────────────────────────────────────────────────────────────────────────────────────────────────────────── \n  <span style=\"color: #1f77b4; text-decoration-color: #1f77b4\">━━━━━━━━━━━━━━━━━━━━━━━━━</span>   2000    0             0.51        15           365.14 draws/s   0:00:05   0:00:00    \n  <span style=\"color: #1f77b4; text-decoration-color: #1f77b4\">━━━━━━━━━━━━━━━━━━━━━━━━━</span>   2000    0             0.39        15           168.64 draws/s   0:00:11   0:00:00    \n                                                                                                                   \n</pre>\n"
                },
                "metadata": {}
              }
            ]
          }
        },
        "82905b03841b4f75ae4ddb43c46ab0e0": {
          "model_module": "@jupyter-widgets/base",
          "model_name": "LayoutModel",
          "model_module_version": "1.2.0",
          "state": {
            "_model_module": "@jupyter-widgets/base",
            "_model_module_version": "1.2.0",
            "_model_name": "LayoutModel",
            "_view_count": null,
            "_view_module": "@jupyter-widgets/base",
            "_view_module_version": "1.2.0",
            "_view_name": "LayoutView",
            "align_content": null,
            "align_items": null,
            "align_self": null,
            "border": null,
            "bottom": null,
            "display": null,
            "flex": null,
            "flex_flow": null,
            "grid_area": null,
            "grid_auto_columns": null,
            "grid_auto_flow": null,
            "grid_auto_rows": null,
            "grid_column": null,
            "grid_gap": null,
            "grid_row": null,
            "grid_template_areas": null,
            "grid_template_columns": null,
            "grid_template_rows": null,
            "height": null,
            "justify_content": null,
            "justify_items": null,
            "left": null,
            "margin": null,
            "max_height": null,
            "max_width": null,
            "min_height": null,
            "min_width": null,
            "object_fit": null,
            "object_position": null,
            "order": null,
            "overflow": null,
            "overflow_x": null,
            "overflow_y": null,
            "padding": null,
            "right": null,
            "top": null,
            "visibility": null,
            "width": null
          }
        }
      }
    }
  },
  "cells": [
    {
      "cell_type": "markdown",
      "metadata": {
        "id": "view-in-github"
      },
      "source": [
        "<a href=\"https://colab.research.google.com/github/NeevSabhani/Data-Science/blob/main/Unit7/NeevSabhUnit7Proj.ipynb\" target=\"_parent\"><img src=\"https://colab.research.google.com/assets/colab-badge.svg\" alt=\"Open In Colab\"/></a>"
      ]
    },
    {
      "cell_type": "code",
      "execution_count": null,
      "metadata": {
        "id": "m69YrWm8nNQO",
        "collapsed": true
      },
      "outputs": [],
      "source": [
        "!pip install git+https://github.com/pydata/xarray.git\n",
        "!pip install bambi\n",
        "!pip install preliz\n",
        "import numpy as np\n",
        "import pandas as pd\n",
        "import arviz as az\n",
        "import matplotlib.pyplot as plt\n",
        "import xarray as xr\n",
        "import bambi as bmb\n",
        "import pymc as pm"
      ]
    },
    {
      "cell_type": "markdown",
      "source": [
        "#**Unit 7 Project: Medical Charge Prediction Model**"
      ],
      "metadata": {
        "id": "nPxLQYSonUWt"
      }
    },
    {
      "cell_type": "markdown",
      "source": [
        "For this project, I choose to make models that would predict how much a person would pay for a medical visit. Things like how in shape a person is, how old they are, etc, can help us figure out the final amount a hospital would charge you, as for example, older patients usually have more problems than a healthy 20yr old body."
      ],
      "metadata": {
        "id": "lcEVtEMgti22"
      }
    },
    {
      "cell_type": "markdown",
      "source": [
        "##**Data + Diagram**"
      ],
      "metadata": {
        "id": "OjgcqEJsr-lL"
      }
    },
    {
      "cell_type": "code",
      "source": [
        "import graphviz\n",
        "\n",
        "causal = graphviz.Digraph(format='png')\n",
        "\n",
        "causal.node(\"Age\", \"Age\")\n",
        "causal.node(\"Gender\", \"Gender\")\n",
        "causal.node(\"dep\", \"# of Dependents\")\n",
        "causal.node(\"BMI\", \"BMI\")\n",
        "causal.node(\"Smoking\", \"Smoking\")\n",
        "causal.node(\"Excercise Frequency\", \"Excercise Frequency\")\n",
        "causal.node(\"Dietery Habits\", \"Dietery Habits\")\n",
        "causal.node(\"Chronic Diseases\", \"Chronic Diseases\")\n",
        "\n",
        "\n",
        "causal.node(\"Genetic Disorders\", \"Genetic Disorders\")\n",
        "causal.node(\"Medical Fee\", \"Medical Fee\")\n",
        "\n",
        "\n",
        "causal.edge(\"Age\", \"BMI\")\n",
        "causal.edge(\"Age\", \"Chronic Diseases\")\n",
        "causal.edge(\"Age\", \"Medical Fee\")\n",
        "\n",
        "causal.edge(\"Gender\", \"Chronic Diseases\")\n",
        "\n",
        "causal.edge(\"dep\", \"Medical Fee\")\n",
        "\n",
        "causal.edge(\"BMI\", \"Chronic Diseases\")\n",
        "causal.edge(\"BMI\", \"Medical Fee\")\n",
        "\n",
        "causal.edge(\"Smoking\", \"Chronic Diseases\")\n",
        "\n",
        "causal.edge(\"Excercise Frequency\", \"BMI\")\n",
        "causal.edge(\"Excercise Frequency\", \"Chronic Diseases\")\n",
        "\n",
        "causal.edge(\"Dietery Habits\", \"BMI\")\n",
        "\n",
        "causal.edge(\"Chronic Diseases\", \"Medical Fee\")\n",
        "\n",
        "causal.edge(\"Genetic Disorders\", \"Chronic Diseases\")\n"
      ],
      "metadata": {
        "id": "1spgk4aMxe-t"
      },
      "execution_count": 4,
      "outputs": []
    },
    {
      "cell_type": "code",
      "source": [
        "causal"
      ],
      "metadata": {
        "colab": {
          "base_uri": "https://localhost:8080/",
          "height": 368
        },
        "id": "zUHRalyRtXJs",
        "outputId": "e0fe02d2-2009-4803-d87b-51d8a159a95f"
      },
      "execution_count": 5,
      "outputs": [
        {
          "output_type": "execute_result",
          "data": {
            "image/svg+xml": "<?xml version=\"1.0\" encoding=\"UTF-8\" standalone=\"no\"?>\n<!DOCTYPE svg PUBLIC \"-//W3C//DTD SVG 1.1//EN\"\n \"http://www.w3.org/Graphics/SVG/1.1/DTD/svg11.dtd\">\n<!-- Generated by graphviz version 2.43.0 (0)\n -->\n<!-- Title: %3 Pages: 1 -->\n<svg width=\"582pt\" height=\"260pt\"\n viewBox=\"0.00 0.00 581.64 260.00\" xmlns=\"http://www.w3.org/2000/svg\" xmlns:xlink=\"http://www.w3.org/1999/xlink\">\n<g id=\"graph0\" class=\"graph\" transform=\"scale(1 1) rotate(0) translate(4 256)\">\n<title>%3</title>\n<polygon fill=\"white\" stroke=\"transparent\" points=\"-4,4 -4,-256 577.64,-256 577.64,4 -4,4\"/>\n<!-- Age -->\n<g id=\"node1\" class=\"node\">\n<title>Age</title>\n<ellipse fill=\"none\" stroke=\"black\" cx=\"59.9\" cy=\"-234\" rx=\"27\" ry=\"18\"/>\n<text text-anchor=\"middle\" x=\"59.9\" y=\"-230.3\" font-family=\"Times,serif\" font-size=\"14.00\">Age</text>\n</g>\n<!-- BMI -->\n<g id=\"node4\" class=\"node\">\n<title>BMI</title>\n<ellipse fill=\"none\" stroke=\"black\" cx=\"145.9\" cy=\"-162\" rx=\"27.9\" ry=\"18\"/>\n<text text-anchor=\"middle\" x=\"145.9\" y=\"-158.3\" font-family=\"Times,serif\" font-size=\"14.00\">BMI</text>\n</g>\n<!-- Age&#45;&gt;BMI -->\n<g id=\"edge1\" class=\"edge\">\n<title>Age&#45;&gt;BMI</title>\n<path fill=\"none\" stroke=\"black\" d=\"M76.48,-219.5C89.13,-209.21 106.76,-194.86 121.08,-183.2\"/>\n<polygon fill=\"black\" stroke=\"black\" points=\"123.53,-185.72 129.07,-176.69 119.11,-180.29 123.53,-185.72\"/>\n</g>\n<!-- Chronic Diseases -->\n<g id=\"node8\" class=\"node\">\n<title>Chronic Diseases</title>\n<ellipse fill=\"none\" stroke=\"black\" cx=\"285.9\" cy=\"-90\" rx=\"72.29\" ry=\"18\"/>\n<text text-anchor=\"middle\" x=\"285.9\" y=\"-86.3\" font-family=\"Times,serif\" font-size=\"14.00\">Chronic Diseases</text>\n</g>\n<!-- Age&#45;&gt;Chronic Diseases -->\n<g id=\"edge2\" class=\"edge\">\n<title>Age&#45;&gt;Chronic Diseases</title>\n<path fill=\"none\" stroke=\"black\" d=\"M64.87,-215.99C71.61,-195.9 85.57,-162.84 108.9,-144 137.97,-120.52 177.24,-107.44 211.4,-100.15\"/>\n<polygon fill=\"black\" stroke=\"black\" points=\"212.24,-103.55 221.36,-98.16 210.86,-96.69 212.24,-103.55\"/>\n</g>\n<!-- Medical Fee -->\n<g id=\"node10\" class=\"node\">\n<title>Medical Fee</title>\n<ellipse fill=\"none\" stroke=\"black\" cx=\"136.9\" cy=\"-18\" rx=\"55.49\" ry=\"18\"/>\n<text text-anchor=\"middle\" x=\"136.9\" y=\"-14.3\" font-family=\"Times,serif\" font-size=\"14.00\">Medical Fee</text>\n</g>\n<!-- Age&#45;&gt;Medical Fee -->\n<g id=\"edge3\" class=\"edge\">\n<title>Age&#45;&gt;Medical Fee</title>\n<path fill=\"none\" stroke=\"black\" d=\"M47.15,-217.55C23.85,-187.33 -20.46,-119.21 10.9,-72 25.91,-49.4 52.64,-36.42 77.63,-28.97\"/>\n<polygon fill=\"black\" stroke=\"black\" points=\"78.74,-32.29 87.46,-26.28 76.89,-25.54 78.74,-32.29\"/>\n</g>\n<!-- Gender -->\n<g id=\"node2\" class=\"node\">\n<title>Gender</title>\n<ellipse fill=\"none\" stroke=\"black\" cx=\"227.9\" cy=\"-162\" rx=\"36.29\" ry=\"18\"/>\n<text text-anchor=\"middle\" x=\"227.9\" y=\"-158.3\" font-family=\"Times,serif\" font-size=\"14.00\">Gender</text>\n</g>\n<!-- Gender&#45;&gt;Chronic Diseases -->\n<g id=\"edge4\" class=\"edge\">\n<title>Gender&#45;&gt;Chronic Diseases</title>\n<path fill=\"none\" stroke=\"black\" d=\"M241.06,-145.12C248.27,-136.42 257.35,-125.45 265.46,-115.66\"/>\n<polygon fill=\"black\" stroke=\"black\" points=\"268.29,-117.73 271.98,-107.8 262.9,-113.26 268.29,-117.73\"/>\n</g>\n<!-- dep -->\n<g id=\"node3\" class=\"node\">\n<title>dep</title>\n<ellipse fill=\"none\" stroke=\"black\" cx=\"88.9\" cy=\"-90\" rx=\"68.79\" ry=\"18\"/>\n<text text-anchor=\"middle\" x=\"88.9\" y=\"-86.3\" font-family=\"Times,serif\" font-size=\"14.00\"># of Dependents</text>\n</g>\n<!-- dep&#45;&gt;Medical Fee -->\n<g id=\"edge5\" class=\"edge\">\n<title>dep&#45;&gt;Medical Fee</title>\n<path fill=\"none\" stroke=\"black\" d=\"M100.52,-72.05C106.24,-63.71 113.25,-53.49 119.58,-44.25\"/>\n<polygon fill=\"black\" stroke=\"black\" points=\"122.62,-46.02 125.38,-35.79 116.84,-42.06 122.62,-46.02\"/>\n</g>\n<!-- BMI&#45;&gt;Chronic Diseases -->\n<g id=\"edge6\" class=\"edge\">\n<title>BMI&#45;&gt;Chronic Diseases</title>\n<path fill=\"none\" stroke=\"black\" d=\"M167.47,-150.22C188.37,-139.76 220.57,-123.66 246.13,-110.88\"/>\n<polygon fill=\"black\" stroke=\"black\" points=\"247.83,-113.95 255.21,-106.34 244.7,-107.69 247.83,-113.95\"/>\n</g>\n<!-- BMI&#45;&gt;Medical Fee -->\n<g id=\"edge7\" class=\"edge\">\n<title>BMI&#45;&gt;Medical Fee</title>\n<path fill=\"none\" stroke=\"black\" d=\"M154.5,-144.86C162.92,-126.98 173.57,-97.33 166.9,-72 164.37,-62.39 159.65,-52.69 154.69,-44.26\"/>\n<polygon fill=\"black\" stroke=\"black\" points=\"157.59,-42.3 149.31,-35.68 151.66,-46.02 157.59,-42.3\"/>\n</g>\n<!-- Smoking -->\n<g id=\"node5\" class=\"node\">\n<title>Smoking</title>\n<ellipse fill=\"none\" stroke=\"black\" cx=\"324.9\" cy=\"-162\" rx=\"42.79\" ry=\"18\"/>\n<text text-anchor=\"middle\" x=\"324.9\" y=\"-158.3\" font-family=\"Times,serif\" font-size=\"14.00\">Smoking</text>\n</g>\n<!-- Smoking&#45;&gt;Chronic Diseases -->\n<g id=\"edge8\" class=\"edge\">\n<title>Smoking&#45;&gt;Chronic Diseases</title>\n<path fill=\"none\" stroke=\"black\" d=\"M315.65,-144.41C311.06,-136.16 305.4,-126.01 300.26,-116.78\"/>\n<polygon fill=\"black\" stroke=\"black\" points=\"303.27,-114.99 295.34,-107.96 297.15,-118.4 303.27,-114.99\"/>\n</g>\n<!-- Excercise Frequency -->\n<g id=\"node6\" class=\"node\">\n<title>Excercise Frequency</title>\n<ellipse fill=\"none\" stroke=\"black\" cx=\"373.9\" cy=\"-234\" rx=\"84.49\" ry=\"18\"/>\n<text text-anchor=\"middle\" x=\"373.9\" y=\"-230.3\" font-family=\"Times,serif\" font-size=\"14.00\">Excercise Frequency</text>\n</g>\n<!-- Excercise Frequency&#45;&gt;BMI -->\n<g id=\"edge9\" class=\"edge\">\n<title>Excercise Frequency&#45;&gt;BMI</title>\n<path fill=\"none\" stroke=\"black\" d=\"M318.83,-220.2C280.27,-210.65 227.82,-196.43 182.9,-180 181.01,-179.31 179.08,-178.56 177.14,-177.77\"/>\n<polygon fill=\"black\" stroke=\"black\" points=\"178.14,-174.39 167.57,-173.66 175.37,-180.82 178.14,-174.39\"/>\n</g>\n<!-- Excercise Frequency&#45;&gt;Chronic Diseases -->\n<g id=\"edge10\" class=\"edge\">\n<title>Excercise Frequency&#45;&gt;Chronic Diseases</title>\n<path fill=\"none\" stroke=\"black\" d=\"M379.49,-215.98C384.63,-197.07 389.69,-166.25 376.9,-144 368.06,-128.63 352.86,-117.3 337.39,-109.15\"/>\n<polygon fill=\"black\" stroke=\"black\" points=\"338.82,-105.95 328.29,-104.72 335.75,-112.25 338.82,-105.95\"/>\n</g>\n<!-- Dietery Habits -->\n<g id=\"node7\" class=\"node\">\n<title>Dietery Habits</title>\n<ellipse fill=\"none\" stroke=\"black\" cx=\"166.9\" cy=\"-234\" rx=\"62.29\" ry=\"18\"/>\n<text text-anchor=\"middle\" x=\"166.9\" y=\"-230.3\" font-family=\"Times,serif\" font-size=\"14.00\">Dietery Habits</text>\n</g>\n<!-- Dietery Habits&#45;&gt;BMI -->\n<g id=\"edge11\" class=\"edge\">\n<title>Dietery Habits&#45;&gt;BMI</title>\n<path fill=\"none\" stroke=\"black\" d=\"M161.81,-216.05C159.41,-208.06 156.5,-198.33 153.82,-189.4\"/>\n<polygon fill=\"black\" stroke=\"black\" points=\"157.16,-188.36 150.93,-179.79 150.46,-190.37 157.16,-188.36\"/>\n</g>\n<!-- Chronic Diseases&#45;&gt;Medical Fee -->\n<g id=\"edge12\" class=\"edge\">\n<title>Chronic Diseases&#45;&gt;Medical Fee</title>\n<path fill=\"none\" stroke=\"black\" d=\"M253.57,-73.81C230.9,-63.16 200.46,-48.86 176.36,-37.54\"/>\n<polygon fill=\"black\" stroke=\"black\" points=\"177.67,-34.29 167.13,-33.21 174.7,-40.63 177.67,-34.29\"/>\n</g>\n<!-- Genetic Disorders -->\n<g id=\"node9\" class=\"node\">\n<title>Genetic Disorders</title>\n<ellipse fill=\"none\" stroke=\"black\" cx=\"498.9\" cy=\"-162\" rx=\"74.99\" ry=\"18\"/>\n<text text-anchor=\"middle\" x=\"498.9\" y=\"-158.3\" font-family=\"Times,serif\" font-size=\"14.00\">Genetic Disorders</text>\n</g>\n<!-- Genetic Disorders&#45;&gt;Chronic Diseases -->\n<g id=\"edge13\" class=\"edge\">\n<title>Genetic Disorders&#45;&gt;Chronic Diseases</title>\n<path fill=\"none\" stroke=\"black\" d=\"M456.56,-147.09C422.4,-135.86 374.21,-120.02 337.74,-108.04\"/>\n<polygon fill=\"black\" stroke=\"black\" points=\"338.38,-104.56 327.79,-104.77 336.2,-111.21 338.38,-104.56\"/>\n</g>\n</g>\n</svg>\n",
            "text/plain": [
              "<graphviz.graphs.Digraph at 0x7f192792ec10>"
            ]
          },
          "metadata": {},
          "execution_count": 5
        }
      ]
    },
    {
      "cell_type": "markdown",
      "source": [
        "For my data, I will be using a dataset on Kaggle. It had 1500 rows and so I removed 9 rows of every 10 rows using some cheeky Google Sheets technique. I believe this sampling method is called systematic random sampling."
      ],
      "metadata": {
        "id": "CwIogb5-sHXm"
      }
    },
    {
      "cell_type": "code",
      "source": [
        "h = pd.read_csv('https://raw.githubusercontent.com/AbdurSharif/data-science-1/refs/heads/main/insurance.csv')\n",
        "del h['region']\n",
        "del h['smoker']\n",
        "del h['sex']\n",
        "\n",
        "h[\"children\"] = h[\"children\"].astype(int)\n",
        "h[\"children\"] = h[\"children\"].astype(\"category\")  # Convert to categorical\n",
        "#print(h[\"children\"].unique())\n",
        "h\n"
      ],
      "metadata": {
        "colab": {
          "base_uri": "https://localhost:8080/",
          "height": 423
        },
        "id": "3rjqDNmCqtpw",
        "outputId": "b796db75-cafa-4bed-f01b-e018406ee898"
      },
      "execution_count": 3,
      "outputs": [
        {
          "output_type": "execute_result",
          "data": {
            "text/plain": [
              "     age     bmi children      charges\n",
              "0     19  27.900        0  16884.92400\n",
              "1     18  33.770        1   1725.55230\n",
              "2     28  33.000        3   4449.46200\n",
              "3     33  22.705        0  21984.47061\n",
              "4     32  28.880        0   3866.85520\n",
              "..   ...     ...      ...          ...\n",
              "164   47  38.215        4  30407.08585\n",
              "165   20  37.000        5  24830.63000\n",
              "166   52  33.155        3  20128.79745\n",
              "167   49  31.825        1  27019.27975\n",
              "168   27  18.905        3  24827.90495\n",
              "\n",
              "[169 rows x 4 columns]"
            ],
            "text/html": [
              "\n",
              "  <div id=\"df-7b684337-2d85-4845-9ed5-3d8d3adcb23e\" class=\"colab-df-container\">\n",
              "    <div>\n",
              "<style scoped>\n",
              "    .dataframe tbody tr th:only-of-type {\n",
              "        vertical-align: middle;\n",
              "    }\n",
              "\n",
              "    .dataframe tbody tr th {\n",
              "        vertical-align: top;\n",
              "    }\n",
              "\n",
              "    .dataframe thead th {\n",
              "        text-align: right;\n",
              "    }\n",
              "</style>\n",
              "<table border=\"1\" class=\"dataframe\">\n",
              "  <thead>\n",
              "    <tr style=\"text-align: right;\">\n",
              "      <th></th>\n",
              "      <th>age</th>\n",
              "      <th>bmi</th>\n",
              "      <th>children</th>\n",
              "      <th>charges</th>\n",
              "    </tr>\n",
              "  </thead>\n",
              "  <tbody>\n",
              "    <tr>\n",
              "      <th>0</th>\n",
              "      <td>19</td>\n",
              "      <td>27.900</td>\n",
              "      <td>0</td>\n",
              "      <td>16884.92400</td>\n",
              "    </tr>\n",
              "    <tr>\n",
              "      <th>1</th>\n",
              "      <td>18</td>\n",
              "      <td>33.770</td>\n",
              "      <td>1</td>\n",
              "      <td>1725.55230</td>\n",
              "    </tr>\n",
              "    <tr>\n",
              "      <th>2</th>\n",
              "      <td>28</td>\n",
              "      <td>33.000</td>\n",
              "      <td>3</td>\n",
              "      <td>4449.46200</td>\n",
              "    </tr>\n",
              "    <tr>\n",
              "      <th>3</th>\n",
              "      <td>33</td>\n",
              "      <td>22.705</td>\n",
              "      <td>0</td>\n",
              "      <td>21984.47061</td>\n",
              "    </tr>\n",
              "    <tr>\n",
              "      <th>4</th>\n",
              "      <td>32</td>\n",
              "      <td>28.880</td>\n",
              "      <td>0</td>\n",
              "      <td>3866.85520</td>\n",
              "    </tr>\n",
              "    <tr>\n",
              "      <th>...</th>\n",
              "      <td>...</td>\n",
              "      <td>...</td>\n",
              "      <td>...</td>\n",
              "      <td>...</td>\n",
              "    </tr>\n",
              "    <tr>\n",
              "      <th>164</th>\n",
              "      <td>47</td>\n",
              "      <td>38.215</td>\n",
              "      <td>4</td>\n",
              "      <td>30407.08585</td>\n",
              "    </tr>\n",
              "    <tr>\n",
              "      <th>165</th>\n",
              "      <td>20</td>\n",
              "      <td>37.000</td>\n",
              "      <td>5</td>\n",
              "      <td>24830.63000</td>\n",
              "    </tr>\n",
              "    <tr>\n",
              "      <th>166</th>\n",
              "      <td>52</td>\n",
              "      <td>33.155</td>\n",
              "      <td>3</td>\n",
              "      <td>20128.79745</td>\n",
              "    </tr>\n",
              "    <tr>\n",
              "      <th>167</th>\n",
              "      <td>49</td>\n",
              "      <td>31.825</td>\n",
              "      <td>1</td>\n",
              "      <td>27019.27975</td>\n",
              "    </tr>\n",
              "    <tr>\n",
              "      <th>168</th>\n",
              "      <td>27</td>\n",
              "      <td>18.905</td>\n",
              "      <td>3</td>\n",
              "      <td>24827.90495</td>\n",
              "    </tr>\n",
              "  </tbody>\n",
              "</table>\n",
              "<p>169 rows × 4 columns</p>\n",
              "</div>\n",
              "    <div class=\"colab-df-buttons\">\n",
              "\n",
              "  <div class=\"colab-df-container\">\n",
              "    <button class=\"colab-df-convert\" onclick=\"convertToInteractive('df-7b684337-2d85-4845-9ed5-3d8d3adcb23e')\"\n",
              "            title=\"Convert this dataframe to an interactive table.\"\n",
              "            style=\"display:none;\">\n",
              "\n",
              "  <svg xmlns=\"http://www.w3.org/2000/svg\" height=\"24px\" viewBox=\"0 -960 960 960\">\n",
              "    <path d=\"M120-120v-720h720v720H120Zm60-500h600v-160H180v160Zm220 220h160v-160H400v160Zm0 220h160v-160H400v160ZM180-400h160v-160H180v160Zm440 0h160v-160H620v160ZM180-180h160v-160H180v160Zm440 0h160v-160H620v160Z\"/>\n",
              "  </svg>\n",
              "    </button>\n",
              "\n",
              "  <style>\n",
              "    .colab-df-container {\n",
              "      display:flex;\n",
              "      gap: 12px;\n",
              "    }\n",
              "\n",
              "    .colab-df-convert {\n",
              "      background-color: #E8F0FE;\n",
              "      border: none;\n",
              "      border-radius: 50%;\n",
              "      cursor: pointer;\n",
              "      display: none;\n",
              "      fill: #1967D2;\n",
              "      height: 32px;\n",
              "      padding: 0 0 0 0;\n",
              "      width: 32px;\n",
              "    }\n",
              "\n",
              "    .colab-df-convert:hover {\n",
              "      background-color: #E2EBFA;\n",
              "      box-shadow: 0px 1px 2px rgba(60, 64, 67, 0.3), 0px 1px 3px 1px rgba(60, 64, 67, 0.15);\n",
              "      fill: #174EA6;\n",
              "    }\n",
              "\n",
              "    .colab-df-buttons div {\n",
              "      margin-bottom: 4px;\n",
              "    }\n",
              "\n",
              "    [theme=dark] .colab-df-convert {\n",
              "      background-color: #3B4455;\n",
              "      fill: #D2E3FC;\n",
              "    }\n",
              "\n",
              "    [theme=dark] .colab-df-convert:hover {\n",
              "      background-color: #434B5C;\n",
              "      box-shadow: 0px 1px 3px 1px rgba(0, 0, 0, 0.15);\n",
              "      filter: drop-shadow(0px 1px 2px rgba(0, 0, 0, 0.3));\n",
              "      fill: #FFFFFF;\n",
              "    }\n",
              "  </style>\n",
              "\n",
              "    <script>\n",
              "      const buttonEl =\n",
              "        document.querySelector('#df-7b684337-2d85-4845-9ed5-3d8d3adcb23e button.colab-df-convert');\n",
              "      buttonEl.style.display =\n",
              "        google.colab.kernel.accessAllowed ? 'block' : 'none';\n",
              "\n",
              "      async function convertToInteractive(key) {\n",
              "        const element = document.querySelector('#df-7b684337-2d85-4845-9ed5-3d8d3adcb23e');\n",
              "        const dataTable =\n",
              "          await google.colab.kernel.invokeFunction('convertToInteractive',\n",
              "                                                    [key], {});\n",
              "        if (!dataTable) return;\n",
              "\n",
              "        const docLinkHtml = 'Like what you see? Visit the ' +\n",
              "          '<a target=\"_blank\" href=https://colab.research.google.com/notebooks/data_table.ipynb>data table notebook</a>'\n",
              "          + ' to learn more about interactive tables.';\n",
              "        element.innerHTML = '';\n",
              "        dataTable['output_type'] = 'display_data';\n",
              "        await google.colab.output.renderOutput(dataTable, element);\n",
              "        const docLink = document.createElement('div');\n",
              "        docLink.innerHTML = docLinkHtml;\n",
              "        element.appendChild(docLink);\n",
              "      }\n",
              "    </script>\n",
              "  </div>\n",
              "\n",
              "\n",
              "<div id=\"df-ac98721f-0d60-422c-ad85-efe021bcb432\">\n",
              "  <button class=\"colab-df-quickchart\" onclick=\"quickchart('df-ac98721f-0d60-422c-ad85-efe021bcb432')\"\n",
              "            title=\"Suggest charts\"\n",
              "            style=\"display:none;\">\n",
              "\n",
              "<svg xmlns=\"http://www.w3.org/2000/svg\" height=\"24px\"viewBox=\"0 0 24 24\"\n",
              "     width=\"24px\">\n",
              "    <g>\n",
              "        <path d=\"M19 3H5c-1.1 0-2 .9-2 2v14c0 1.1.9 2 2 2h14c1.1 0 2-.9 2-2V5c0-1.1-.9-2-2-2zM9 17H7v-7h2v7zm4 0h-2V7h2v10zm4 0h-2v-4h2v4z\"/>\n",
              "    </g>\n",
              "</svg>\n",
              "  </button>\n",
              "\n",
              "<style>\n",
              "  .colab-df-quickchart {\n",
              "      --bg-color: #E8F0FE;\n",
              "      --fill-color: #1967D2;\n",
              "      --hover-bg-color: #E2EBFA;\n",
              "      --hover-fill-color: #174EA6;\n",
              "      --disabled-fill-color: #AAA;\n",
              "      --disabled-bg-color: #DDD;\n",
              "  }\n",
              "\n",
              "  [theme=dark] .colab-df-quickchart {\n",
              "      --bg-color: #3B4455;\n",
              "      --fill-color: #D2E3FC;\n",
              "      --hover-bg-color: #434B5C;\n",
              "      --hover-fill-color: #FFFFFF;\n",
              "      --disabled-bg-color: #3B4455;\n",
              "      --disabled-fill-color: #666;\n",
              "  }\n",
              "\n",
              "  .colab-df-quickchart {\n",
              "    background-color: var(--bg-color);\n",
              "    border: none;\n",
              "    border-radius: 50%;\n",
              "    cursor: pointer;\n",
              "    display: none;\n",
              "    fill: var(--fill-color);\n",
              "    height: 32px;\n",
              "    padding: 0;\n",
              "    width: 32px;\n",
              "  }\n",
              "\n",
              "  .colab-df-quickchart:hover {\n",
              "    background-color: var(--hover-bg-color);\n",
              "    box-shadow: 0 1px 2px rgba(60, 64, 67, 0.3), 0 1px 3px 1px rgba(60, 64, 67, 0.15);\n",
              "    fill: var(--button-hover-fill-color);\n",
              "  }\n",
              "\n",
              "  .colab-df-quickchart-complete:disabled,\n",
              "  .colab-df-quickchart-complete:disabled:hover {\n",
              "    background-color: var(--disabled-bg-color);\n",
              "    fill: var(--disabled-fill-color);\n",
              "    box-shadow: none;\n",
              "  }\n",
              "\n",
              "  .colab-df-spinner {\n",
              "    border: 2px solid var(--fill-color);\n",
              "    border-color: transparent;\n",
              "    border-bottom-color: var(--fill-color);\n",
              "    animation:\n",
              "      spin 1s steps(1) infinite;\n",
              "  }\n",
              "\n",
              "  @keyframes spin {\n",
              "    0% {\n",
              "      border-color: transparent;\n",
              "      border-bottom-color: var(--fill-color);\n",
              "      border-left-color: var(--fill-color);\n",
              "    }\n",
              "    20% {\n",
              "      border-color: transparent;\n",
              "      border-left-color: var(--fill-color);\n",
              "      border-top-color: var(--fill-color);\n",
              "    }\n",
              "    30% {\n",
              "      border-color: transparent;\n",
              "      border-left-color: var(--fill-color);\n",
              "      border-top-color: var(--fill-color);\n",
              "      border-right-color: var(--fill-color);\n",
              "    }\n",
              "    40% {\n",
              "      border-color: transparent;\n",
              "      border-right-color: var(--fill-color);\n",
              "      border-top-color: var(--fill-color);\n",
              "    }\n",
              "    60% {\n",
              "      border-color: transparent;\n",
              "      border-right-color: var(--fill-color);\n",
              "    }\n",
              "    80% {\n",
              "      border-color: transparent;\n",
              "      border-right-color: var(--fill-color);\n",
              "      border-bottom-color: var(--fill-color);\n",
              "    }\n",
              "    90% {\n",
              "      border-color: transparent;\n",
              "      border-bottom-color: var(--fill-color);\n",
              "    }\n",
              "  }\n",
              "</style>\n",
              "\n",
              "  <script>\n",
              "    async function quickchart(key) {\n",
              "      const quickchartButtonEl =\n",
              "        document.querySelector('#' + key + ' button');\n",
              "      quickchartButtonEl.disabled = true;  // To prevent multiple clicks.\n",
              "      quickchartButtonEl.classList.add('colab-df-spinner');\n",
              "      try {\n",
              "        const charts = await google.colab.kernel.invokeFunction(\n",
              "            'suggestCharts', [key], {});\n",
              "      } catch (error) {\n",
              "        console.error('Error during call to suggestCharts:', error);\n",
              "      }\n",
              "      quickchartButtonEl.classList.remove('colab-df-spinner');\n",
              "      quickchartButtonEl.classList.add('colab-df-quickchart-complete');\n",
              "    }\n",
              "    (() => {\n",
              "      let quickchartButtonEl =\n",
              "        document.querySelector('#df-ac98721f-0d60-422c-ad85-efe021bcb432 button');\n",
              "      quickchartButtonEl.style.display =\n",
              "        google.colab.kernel.accessAllowed ? 'block' : 'none';\n",
              "    })();\n",
              "  </script>\n",
              "</div>\n",
              "\n",
              "  <div id=\"id_c51e46c4-2b4f-4a5e-930a-5562cbf7ff22\">\n",
              "    <style>\n",
              "      .colab-df-generate {\n",
              "        background-color: #E8F0FE;\n",
              "        border: none;\n",
              "        border-radius: 50%;\n",
              "        cursor: pointer;\n",
              "        display: none;\n",
              "        fill: #1967D2;\n",
              "        height: 32px;\n",
              "        padding: 0 0 0 0;\n",
              "        width: 32px;\n",
              "      }\n",
              "\n",
              "      .colab-df-generate:hover {\n",
              "        background-color: #E2EBFA;\n",
              "        box-shadow: 0px 1px 2px rgba(60, 64, 67, 0.3), 0px 1px 3px 1px rgba(60, 64, 67, 0.15);\n",
              "        fill: #174EA6;\n",
              "      }\n",
              "\n",
              "      [theme=dark] .colab-df-generate {\n",
              "        background-color: #3B4455;\n",
              "        fill: #D2E3FC;\n",
              "      }\n",
              "\n",
              "      [theme=dark] .colab-df-generate:hover {\n",
              "        background-color: #434B5C;\n",
              "        box-shadow: 0px 1px 3px 1px rgba(0, 0, 0, 0.15);\n",
              "        filter: drop-shadow(0px 1px 2px rgba(0, 0, 0, 0.3));\n",
              "        fill: #FFFFFF;\n",
              "      }\n",
              "    </style>\n",
              "    <button class=\"colab-df-generate\" onclick=\"generateWithVariable('h')\"\n",
              "            title=\"Generate code using this dataframe.\"\n",
              "            style=\"display:none;\">\n",
              "\n",
              "  <svg xmlns=\"http://www.w3.org/2000/svg\" height=\"24px\"viewBox=\"0 0 24 24\"\n",
              "       width=\"24px\">\n",
              "    <path d=\"M7,19H8.4L18.45,9,17,7.55,7,17.6ZM5,21V16.75L18.45,3.32a2,2,0,0,1,2.83,0l1.4,1.43a1.91,1.91,0,0,1,.58,1.4,1.91,1.91,0,0,1-.58,1.4L9.25,21ZM18.45,9,17,7.55Zm-12,3A5.31,5.31,0,0,0,4.9,8.1,5.31,5.31,0,0,0,1,6.5,5.31,5.31,0,0,0,4.9,4.9,5.31,5.31,0,0,0,6.5,1,5.31,5.31,0,0,0,8.1,4.9,5.31,5.31,0,0,0,12,6.5,5.46,5.46,0,0,0,6.5,12Z\"/>\n",
              "  </svg>\n",
              "    </button>\n",
              "    <script>\n",
              "      (() => {\n",
              "      const buttonEl =\n",
              "        document.querySelector('#id_c51e46c4-2b4f-4a5e-930a-5562cbf7ff22 button.colab-df-generate');\n",
              "      buttonEl.style.display =\n",
              "        google.colab.kernel.accessAllowed ? 'block' : 'none';\n",
              "\n",
              "      buttonEl.onclick = () => {\n",
              "        google.colab.notebook.generateWithVariable('h');\n",
              "      }\n",
              "      })();\n",
              "    </script>\n",
              "  </div>\n",
              "\n",
              "    </div>\n",
              "  </div>\n"
            ],
            "application/vnd.google.colaboratory.intrinsic+json": {
              "type": "dataframe",
              "variable_name": "h",
              "summary": "{\n  \"name\": \"h\",\n  \"rows\": 169,\n  \"fields\": [\n    {\n      \"column\": \"age\",\n      \"properties\": {\n        \"dtype\": \"number\",\n        \"std\": 14,\n        \"min\": 18,\n        \"max\": 64,\n        \"num_unique_values\": 46,\n        \"samples\": [\n          45,\n          38,\n          36\n        ],\n        \"semantic_type\": \"\",\n        \"description\": \"\"\n      }\n    },\n    {\n      \"column\": \"bmi\",\n      \"properties\": {\n        \"dtype\": \"number\",\n        \"std\": 5.549188099504279,\n        \"min\": 17.385,\n        \"max\": 42.13,\n        \"num_unique_values\": 150,\n        \"samples\": [\n          27.4,\n          40.3,\n          26.505\n        ],\n        \"semantic_type\": \"\",\n        \"description\": \"\"\n      }\n    },\n    {\n      \"column\": \"children\",\n      \"properties\": {\n        \"dtype\": \"category\",\n        \"num_unique_values\": 6,\n        \"samples\": [\n          0,\n          1,\n          4\n        ],\n        \"semantic_type\": \"\",\n        \"description\": \"\"\n      }\n    },\n    {\n      \"column\": \"charges\",\n      \"properties\": {\n        \"dtype\": \"number\",\n        \"std\": 12833.942066704796,\n        \"min\": 1137.011,\n        \"max\": 51194.55914,\n        \"num_unique_values\": 169,\n        \"samples\": [\n          2166.732,\n          35585.576,\n          7740.337\n        ],\n        \"semantic_type\": \"\",\n        \"description\": \"\"\n      }\n    }\n  ]\n}"
            }
          },
          "metadata": {},
          "execution_count": 3
        }
      ]
    },
    {
      "cell_type": "markdown",
      "source": [
        "\n",
        "Medical costs are influenced by a variety of factors, ranging from lifestyle choices to genetic predispositions. However, for this analysis, I have chosen to focus on three key predictors: Age, BMI, and Number of Children. These variables, in my view, have the most direct impact on medical expenses. While other factors, such as smoking status, diet, and exercise habits, certainly play a role, I either found them to be less influential or did not have sufficient data to include them in my models (For example smoking status is a yes or no answer).\n",
        "\n",
        "\n",
        "---\n",
        "\n",
        "\n",
        "Age\n",
        "-  Age is one of the most consistent drivers of medical expenses. As people get older, they are more likely to develop chronic conditions that require ongoing treatment, medication, and specialist visits. Also, screenings and checkups to prevent any of such diseases also increase with age. I believe that medical charges will rise nonlinearly with age.\n",
        "\n",
        "BMI (Body Mass Index)\n",
        "-  BMI is a widely used measure of health risk, correlating strongly with obesity-related conditions such as diabetes and cardiovascular disease. People w/ higher BMI often have higher medical expenses due to those things and also have a higher chance of requiring medical help to save their lives. However, very low BMI can also indicate malnourishment or other health complications, which could similarly lead to higher medical costs. I expect both very high and very low BMI values to equal to increased healthcare expenses.\n",
        "\n",
        "Number of Children\n",
        "-  While number of children may not seem like an obvious predictor of medical costs, it plays an important role in healthcare expenses for families. Individuals with children are more likely to incur costs related to pregnancy, childbirth, etc. Additionally, having children can impact overall lifestyle, stress levels, and access to medical care, which may influence medical spending.\n",
        "\n",
        "\n",
        "\n",
        "---\n",
        "\n",
        "\n",
        "The Models I Chose:\n",
        "\n",
        "\n",
        "To model medical charges, I will be building six models:\n",
        "\n",
        "-  Polynomial Model with BMI\n",
        "-  B-Spline Model with BMI\n",
        "-  B-Spline Model with BMI and Age\n",
        "-  B-Spline Model with BMI and Number of Children\n",
        "-  B-Spline Model with Age and Number of Children\n",
        "-  B-Spline Model with All Three Predictors\n",
        "\n",
        "I do believe BMI is the most important indicator, as it literally is a health risk index, so I've done a couple solo predictions with BMI.\n",
        "\n",
        "Unfortunately, I did not try to mess with GPs (maybe in a later project). They seemed a lot more complicated than B-Splines and I hope that Polynomials and B-splines can get the job done here.\n"
      ],
      "metadata": {
        "id": "r5nTh7Jiu4tm"
      }
    },
    {
      "cell_type": "markdown",
      "source": [
        "###**Model 1**"
      ],
      "metadata": {
        "id": "pQPb4ND7zp9d"
      }
    },
    {
      "cell_type": "code",
      "source": [
        "model_poly = bmb.Model(\"charges ~ poly(bmi, degree=4)\", h, family=\"negativebinomial\")\n",
        "idata_poly = model_poly.fit(idata_kwargs={\"log_likelihood\": True})"
      ],
      "metadata": {
        "colab": {
          "base_uri": "https://localhost:8080/",
          "height": 113,
          "referenced_widgets": [
            "fa5fe8d42d084de8bf1822ad4b67f401",
            "6cf55c3af1144168a22b5f87c8429f45"
          ]
        },
        "id": "duKi_QU0ifIB",
        "outputId": "3f3ac5d0-bc27-4ac9-8959-9b39dbd41dab"
      },
      "execution_count": 26,
      "outputs": [
        {
          "output_type": "display_data",
          "data": {
            "text/plain": [
              "Output()"
            ],
            "application/vnd.jupyter.widget-view+json": {
              "version_major": 2,
              "version_minor": 0,
              "model_id": "fa5fe8d42d084de8bf1822ad4b67f401"
            }
          },
          "metadata": {}
        },
        {
          "output_type": "display_data",
          "data": {
            "text/plain": [],
            "text/html": [
              "<pre style=\"white-space:pre;overflow-x:auto;line-height:normal;font-family:Menlo,'DejaVu Sans Mono',consolas,'Courier New',monospace\"></pre>\n"
            ]
          },
          "metadata": {}
        }
      ]
    },
    {
      "cell_type": "code",
      "source": [
        "bmb.interpret.plot_predictions(model_poly, idata_poly, \"bmi\", pps=True)\n",
        "plt.plot(h.bmi, h.charges, \"C2.\", zorder=-3)"
      ],
      "metadata": {
        "colab": {
          "base_uri": "https://localhost:8080/",
          "height": 501
        },
        "id": "9teqMwsNiswx",
        "outputId": "d27b32c5-3011-4463-9e53-eb87b2506828"
      },
      "execution_count": 27,
      "outputs": [
        {
          "output_type": "stream",
          "name": "stderr",
          "text": [
            "/usr/local/lib/python3.11/dist-packages/arviz/rcparams.py:368: FutureWarning: stats.hdi_prob is deprecated since 0.18.0, use stats.ci_prob instead\n",
            "  warnings.warn(\n"
          ]
        },
        {
          "output_type": "execute_result",
          "data": {
            "text/plain": [
              "[<matplotlib.lines.Line2D at 0x7f18f9678210>]"
            ]
          },
          "metadata": {},
          "execution_count": 27
        },
        {
          "output_type": "display_data",
          "data": {
            "text/plain": [
              "<Figure size 640x480 with 1 Axes>"
            ],
            "image/png": "[encoded data removed]"
          },
          "metadata": {}
        }
      ]
    },
    {
      "cell_type": "markdown",
      "source": [
        "Compared to the other models ahead, looks wayyy simpler."
      ],
      "metadata": {
        "id": "w3cMhxNduOjJ"
      }
    },
    {
      "cell_type": "markdown",
      "source": [
        "###**Model 2**"
      ],
      "metadata": {
        "id": "yvNsYfB6zADm"
      }
    },
    {
      "cell_type": "code",
      "source": [
        "num_knots = 2\n",
        "knots = np.linspace(17.39, 45, num_knots+2)[1:-1]\n",
        "model_b1 = bmb.Model(\"charges ~ bs(bmi, degree=3, knots=knots)\", h, family=\"negativebinomial\")\n",
        "idata_b1 = model_b1.fit(idata_kwargs={'log_likelihood': True})\n"
      ],
      "metadata": {
        "colab": {
          "base_uri": "https://localhost:8080/",
          "height": 113,
          "referenced_widgets": [
            "1949a1d23bdf45fb961c6bf5ef073bf1",
            "faf4936d90c54260a0f3065056779bce"
          ]
        },
        "id": "5mKbtO0uKop9",
        "outputId": "c51f3bac-d282-48f4-f7ad-aece4bc37ee5"
      },
      "execution_count": 9,
      "outputs": [
        {
          "output_type": "display_data",
          "data": {
            "text/plain": [
              "Output()"
            ],
            "application/vnd.jupyter.widget-view+json": {
              "version_major": 2,
              "version_minor": 0,
              "model_id": "1949a1d23bdf45fb961c6bf5ef073bf1"
            }
          },
          "metadata": {}
        },
        {
          "output_type": "display_data",
          "data": {
            "text/plain": [],
            "text/html": [
              "<pre style=\"white-space:pre;overflow-x:auto;line-height:normal;font-family:Menlo,'DejaVu Sans Mono',consolas,'Courier New',monospace\"></pre>\n"
            ]
          },
          "metadata": {}
        }
      ]
    },
    {
      "cell_type": "code",
      "source": [
        "bmb.interpret.plot_predictions(model_b1, idata_b1, \"bmi\", pps=True)\n",
        "plt.plot(h.bmi, h.charges, \"C2.\", zorder=-3)"
      ],
      "metadata": {
        "colab": {
          "base_uri": "https://localhost:8080/",
          "height": 501
        },
        "id": "V1fcoTFxKpZA",
        "outputId": "768dc54b-5c99-41ea-cca7-329f1e6cb49a"
      },
      "execution_count": 10,
      "outputs": [
        {
          "output_type": "stream",
          "name": "stderr",
          "text": [
            "/usr/local/lib/python3.11/dist-packages/arviz/rcparams.py:368: FutureWarning: stats.hdi_prob is deprecated since 0.18.0, use stats.ci_prob instead\n",
            "  warnings.warn(\n"
          ]
        },
        {
          "output_type": "execute_result",
          "data": {
            "text/plain": [
              "[<matplotlib.lines.Line2D at 0x7f190f7c8290>]"
            ]
          },
          "metadata": {},
          "execution_count": 10
        },
        {
          "output_type": "display_data",
          "data": {
            "text/plain": [
              "<Figure size 640x480 with 1 Axes>"
            ],
            "image/png": "[encoded data removed]"
          },
          "metadata": {}
        }
      ]
    },
    {
      "cell_type": "markdown",
      "source": [
        "###**Model 3**"
      ],
      "metadata": {
        "id": "xLGA87MtzFnn"
      }
    },
    {
      "cell_type": "code",
      "source": [
        "num_knots = 2\n",
        "knots = np.linspace(17.39, 45, num_knots+2)[1:-1]\n",
        "knots2 = np.linspace(17, 65, num_knots+2)[1:-1]\n",
        "model_b2 = bmb.Model(\"charges ~ bs(bmi, knots=knots) + bs(age, knots=knots2)\", h, family=\"negativebinomial\")\n",
        "idata_b2 = model_b2.fit(idata_kwargs={'log_likelihood': True})\n"
      ],
      "metadata": {
        "colab": {
          "base_uri": "https://localhost:8080/",
          "height": 113,
          "referenced_widgets": [
            "d6c36cadadc14e0096f32c2ad0846641",
            "064acce706ef4f95b68298e4e969e059"
          ]
        },
        "id": "yMxeyTL_ndyG",
        "outputId": "f00e47b0-5541-4b84-bc15-bd9e32fed237"
      },
      "execution_count": 11,
      "outputs": [
        {
          "output_type": "display_data",
          "data": {
            "text/plain": [
              "Output()"
            ],
            "application/vnd.jupyter.widget-view+json": {
              "version_major": 2,
              "version_minor": 0,
              "model_id": "d6c36cadadc14e0096f32c2ad0846641"
            }
          },
          "metadata": {}
        },
        {
          "output_type": "display_data",
          "data": {
            "text/plain": [],
            "text/html": [
              "<pre style=\"white-space:pre;overflow-x:auto;line-height:normal;font-family:Menlo,'DejaVu Sans Mono',consolas,'Courier New',monospace\"></pre>\n"
            ]
          },
          "metadata": {}
        }
      ]
    },
    {
      "cell_type": "code",
      "source": [
        "bmb.interpret.plot_predictions(model_b2, idata_b2, \"bmi\", pps=True)\n",
        "plt.plot(h.bmi, h.charges, \"C2.\", zorder=-3)"
      ],
      "metadata": {
        "colab": {
          "base_uri": "https://localhost:8080/",
          "height": 501
        },
        "id": "xq0wDmD4ni8d",
        "outputId": "994a1a42-9499-4d79-efd1-de913d3c57e4"
      },
      "execution_count": 12,
      "outputs": [
        {
          "output_type": "stream",
          "name": "stderr",
          "text": [
            "/usr/local/lib/python3.11/dist-packages/arviz/rcparams.py:368: FutureWarning: stats.hdi_prob is deprecated since 0.18.0, use stats.ci_prob instead\n",
            "  warnings.warn(\n"
          ]
        },
        {
          "output_type": "execute_result",
          "data": {
            "text/plain": [
              "[<matplotlib.lines.Line2D at 0x7f1914d005d0>]"
            ]
          },
          "metadata": {},
          "execution_count": 12
        },
        {
          "output_type": "display_data",
          "data": {
            "text/plain": [
              "<Figure size 640x480 with 1 Axes>"
            ],
            "image/png": "[encoded data removed]"
          },
          "metadata": {}
        }
      ]
    },
    {
      "cell_type": "markdown",
      "source": [
        "###**Model 4**"
      ],
      "metadata": {
        "id": "Z3Eftu1azSV-"
      }
    },
    {
      "cell_type": "code",
      "source": [
        "num_knots = 2\n",
        "knots = np.linspace(17.39, 45, num_knots+2)[1:-1]\n",
        "\n",
        "h[\"children\"] = h[\"children\"].astype(int)\n",
        "model_b3 = bmb.Model(\"charges ~ bs(bmi, knots=knots) + C(children)\", h, family=\"negativebinomial\") #children is categorical, not continious\n",
        "idata_b3 = model_b3.fit(idata_kwargs={'log_likelihood': True})\n"
      ],
      "metadata": {
        "colab": {
          "base_uri": "https://localhost:8080/",
          "height": 113,
          "referenced_widgets": [
            "238294f67d7e45a2b093c6630f6ccbc6",
            "ab34ea9ad91c46ce877a4254d234828b"
          ]
        },
        "id": "IrlIQo46g1RJ",
        "outputId": "864fca3c-c294-44eb-c2a4-cbba84458be8"
      },
      "execution_count": 13,
      "outputs": [
        {
          "output_type": "display_data",
          "data": {
            "text/plain": [
              "Output()"
            ],
            "application/vnd.jupyter.widget-view+json": {
              "version_major": 2,
              "version_minor": 0,
              "model_id": "238294f67d7e45a2b093c6630f6ccbc6"
            }
          },
          "metadata": {}
        },
        {
          "output_type": "display_data",
          "data": {
            "text/plain": [],
            "text/html": [
              "<pre style=\"white-space:pre;overflow-x:auto;line-height:normal;font-family:Menlo,'DejaVu Sans Mono',consolas,'Courier New',monospace\"></pre>\n"
            ]
          },
          "metadata": {}
        }
      ]
    },
    {
      "cell_type": "code",
      "source": [
        "h[\"children\"] = h[\"children\"].astype(int)\n",
        "bmb.interpret.plot_predictions(model_b3, idata_b3, \"bmi\", pps=True)\n",
        "plt.plot(h.bmi, h.charges, \"C2.\", zorder=-3)\n"
      ],
      "metadata": {
        "colab": {
          "base_uri": "https://localhost:8080/",
          "height": 501
        },
        "id": "mT3UZLpIznkL",
        "outputId": "588060ee-817a-401f-f713-e19e57c65e9f"
      },
      "execution_count": 14,
      "outputs": [
        {
          "output_type": "stream",
          "name": "stderr",
          "text": [
            "/usr/local/lib/python3.11/dist-packages/arviz/rcparams.py:368: FutureWarning: stats.hdi_prob is deprecated since 0.18.0, use stats.ci_prob instead\n",
            "  warnings.warn(\n"
          ]
        },
        {
          "output_type": "execute_result",
          "data": {
            "text/plain": [
              "[<matplotlib.lines.Line2D at 0x7f1926026190>]"
            ]
          },
          "metadata": {},
          "execution_count": 14
        },
        {
          "output_type": "display_data",
          "data": {
            "text/plain": [
              "<Figure size 640x480 with 1 Axes>"
            ],
            "image/png": "[encoded data removed]"
          },
          "metadata": {}
        }
      ]
    },
    {
      "cell_type": "markdown",
      "source": [
        "###**Model 5**"
      ],
      "metadata": {
        "id": "pdYYEc_IzWk6"
      }
    },
    {
      "cell_type": "code",
      "source": [
        "num_knots = 2\n",
        "knots = np.linspace(17, 65, num_knots+2)[1:-1]\n",
        "\n",
        "h[\"children\"] = h[\"children\"].astype(int)\n",
        "model_b4 = bmb.Model(\"charges ~ bs(age, knots=knots) + C(children)\", h, family=\"negativebinomial\") #children is categorical, not continious\n",
        "idata_b4 = model_b4.fit(idata_kwargs={'log_likelihood': True})\n"
      ],
      "metadata": {
        "colab": {
          "base_uri": "https://localhost:8080/",
          "height": 113,
          "referenced_widgets": [
            "93a25bc735aa40a88f05ad564934cdbd",
            "3bf4bc2561474c88b50b0109e1905fb9"
          ]
        },
        "id": "0qMxFbnHoyBZ",
        "outputId": "ba179643-7287-4b7f-99b7-c8c64cdcee95"
      },
      "execution_count": 15,
      "outputs": [
        {
          "output_type": "display_data",
          "data": {
            "text/plain": [
              "Output()"
            ],
            "application/vnd.jupyter.widget-view+json": {
              "version_major": 2,
              "version_minor": 0,
              "model_id": "93a25bc735aa40a88f05ad564934cdbd"
            }
          },
          "metadata": {}
        },
        {
          "output_type": "display_data",
          "data": {
            "text/plain": [],
            "text/html": [
              "<pre style=\"white-space:pre;overflow-x:auto;line-height:normal;font-family:Menlo,'DejaVu Sans Mono',consolas,'Courier New',monospace\"></pre>\n"
            ]
          },
          "metadata": {}
        }
      ]
    },
    {
      "cell_type": "code",
      "source": [
        "h[\"children\"] = h[\"children\"].astype(int)\n",
        "bmb.interpret.plot_predictions(model_b4, idata_b4, \"age\", pps=True)\n",
        "plt.plot(h.age, h.charges, \"C2.\", zorder=-3)\n"
      ],
      "metadata": {
        "colab": {
          "base_uri": "https://localhost:8080/",
          "height": 501
        },
        "id": "Pa5RcnWMp813",
        "outputId": "d789b9d3-61f8-4fc9-87a4-572f4f9cca2a"
      },
      "execution_count": 83,
      "outputs": [
        {
          "output_type": "stream",
          "name": "stderr",
          "text": [
            "/usr/local/lib/python3.11/dist-packages/arviz/rcparams.py:368: FutureWarning: stats.hdi_prob is deprecated since 0.18.0, use stats.ci_prob instead\n",
            "  warnings.warn(\n"
          ]
        },
        {
          "output_type": "execute_result",
          "data": {
            "text/plain": [
              "[<matplotlib.lines.Line2D at 0x79e203f7ba10>]"
            ]
          },
          "metadata": {},
          "execution_count": 83
        },
        {
          "output_type": "display_data",
          "data": {
            "text/plain": [
              "<Figure size 640x480 with 1 Axes>"
            ],
            "image/png": "[encoded data removed]"
          },
          "metadata": {}
        }
      ]
    },
    {
      "cell_type": "markdown",
      "source": [
        "The distribution of data points looks pretty odd here."
      ],
      "metadata": {
        "id": "lH8P4I9zuT1C"
      }
    },
    {
      "cell_type": "markdown",
      "source": [
        "###**Model 6**"
      ],
      "metadata": {
        "id": "Wm9lbdML3E5T"
      }
    },
    {
      "cell_type": "code",
      "source": [
        "num_knots = 1\n",
        "knots = np.linspace(17, 65, num_knots+2)[1:-1]\n",
        "knots2 = np.linspace(17, 65, num_knots+2)[1:-1]\n",
        "\n",
        "h[\"children\"] = h[\"children\"].astype(int)\n",
        "model_b5 = bmb.Model(\"charges ~ bs(bmi, knots=knots) + bs(age, knots=knots2) + C(children)\", h, family=\"negativebinomial\") #children is categorical, not continious\n",
        "idata_b5 = model_b5.fit(idata_kwargs={'log_likelihood': True})\n"
      ],
      "metadata": {
        "colab": {
          "base_uri": "https://localhost:8080/",
          "height": 113,
          "referenced_widgets": [
            "4faf7168d69540ce9fcfef518bc9670a",
            "82905b03841b4f75ae4ddb43c46ab0e0"
          ]
        },
        "outputId": "80324db1-7608-426b-f37b-44aaa4751cb6",
        "id": "Mxu8ADnC3JVg"
      },
      "execution_count": 16,
      "outputs": [
        {
          "output_type": "display_data",
          "data": {
            "text/plain": [
              "Output()"
            ],
            "application/vnd.jupyter.widget-view+json": {
              "version_major": 2,
              "version_minor": 0,
              "model_id": "4faf7168d69540ce9fcfef518bc9670a"
            }
          },
          "metadata": {}
        },
        {
          "output_type": "display_data",
          "data": {
            "text/plain": [],
            "text/html": [
              "<pre style=\"white-space:pre;overflow-x:auto;line-height:normal;font-family:Menlo,'DejaVu Sans Mono',consolas,'Courier New',monospace\"></pre>\n"
            ]
          },
          "metadata": {}
        }
      ]
    },
    {
      "cell_type": "code",
      "source": [
        "h[\"children\"] = h[\"children\"].astype(int)\n",
        "bmb.interpret.plot_predictions(model_b5, idata_b5, \"bmi\", pps=True)\n",
        "plt.plot(h.bmi, h.charges, \"C2.\", zorder=-3)"
      ],
      "metadata": {
        "colab": {
          "base_uri": "https://localhost:8080/",
          "height": 501
        },
        "id": "DvaKLCj04aIy",
        "outputId": "83096bf1-8a80-4c2c-a7f4-96182848a4ec"
      },
      "execution_count": 17,
      "outputs": [
        {
          "output_type": "stream",
          "name": "stderr",
          "text": [
            "/usr/local/lib/python3.11/dist-packages/arviz/rcparams.py:368: FutureWarning: stats.hdi_prob is deprecated since 0.18.0, use stats.ci_prob instead\n",
            "  warnings.warn(\n"
          ]
        },
        {
          "output_type": "execute_result",
          "data": {
            "text/plain": [
              "[<matplotlib.lines.Line2D at 0x7f19159c2550>]"
            ]
          },
          "metadata": {},
          "execution_count": 17
        },
        {
          "output_type": "display_data",
          "data": {
            "text/plain": [
              "<Figure size 640x480 with 1 Axes>"
            ],
            "image/png": "[encoded data removed]"
          },
          "metadata": {}
        }
      ]
    },
    {
      "cell_type": "markdown",
      "source": [
        "The y-axis goes up to $700k for this one, making it seem super squished. Not completely sure what went wrong."
      ],
      "metadata": {
        "id": "heBwKnr9pRpj"
      }
    },
    {
      "cell_type": "markdown",
      "source": [
        "##**Conclusion**"
      ],
      "metadata": {
        "id": "RlYBkY4hzr3l"
      }
    },
    {
      "cell_type": "code",
      "source": [
        "cmp = az.compare({\"bmi\":idata_b1, \"bmi age\":idata_b2, \"bmi kid\":idata_b3,\"age kid\":idata_b4, \"bmi age kid\":idata_b5,  \"poly\":idata_poly})\n",
        "az.plot_compare(cmp)"
      ],
      "metadata": {
        "colab": {
          "base_uri": "https://localhost:8080/",
          "height": 821
        },
        "id": "6nM8ASCGNziN",
        "outputId": "cf86b4f3-038c-47a1-83f7-a122a5ac6436"
      },
      "execution_count": 19,
      "outputs": [
        {
          "output_type": "stream",
          "name": "stderr",
          "text": [
            "/usr/local/lib/python3.11/dist-packages/arviz/stats/stats.py:795: UserWarning: Estimated shape parameter of Pareto distribution is greater than 0.70 for one or more samples. You should consider using a more robust model, this is because importance sampling is less likely to work well if the marginal posterior and LOO posterior are very different. This is more likely to happen with a non-robust model and highly influential observations.\n",
            "  warnings.warn(\n",
            "/usr/local/lib/python3.11/dist-packages/arviz/stats/stats.py:795: UserWarning: Estimated shape parameter of Pareto distribution is greater than 0.70 for one or more samples. You should consider using a more robust model, this is because importance sampling is less likely to work well if the marginal posterior and LOO posterior are very different. This is more likely to happen with a non-robust model and highly influential observations.\n",
            "  warnings.warn(\n",
            "/usr/local/lib/python3.11/dist-packages/arviz/stats/stats.py:795: UserWarning: Estimated shape parameter of Pareto distribution is greater than 0.70 for one or more samples. You should consider using a more robust model, this is because importance sampling is less likely to work well if the marginal posterior and LOO posterior are very different. This is more likely to happen with a non-robust model and highly influential observations.\n",
            "  warnings.warn(\n",
            "/usr/local/lib/python3.11/dist-packages/arviz/stats/stats.py:795: UserWarning: Estimated shape parameter of Pareto distribution is greater than 0.70 for one or more samples. You should consider using a more robust model, this is because importance sampling is less likely to work well if the marginal posterior and LOO posterior are very different. This is more likely to happen with a non-robust model and highly influential observations.\n",
            "  warnings.warn(\n",
            "/usr/local/lib/python3.11/dist-packages/arviz/stats/stats.py:795: UserWarning: Estimated shape parameter of Pareto distribution is greater than 0.70 for one or more samples. You should consider using a more robust model, this is because importance sampling is less likely to work well if the marginal posterior and LOO posterior are very different. This is more likely to happen with a non-robust model and highly influential observations.\n",
            "  warnings.warn(\n"
          ]
        },
        {
          "output_type": "execute_result",
          "data": {
            "text/plain": [
              "<Axes: title={'center': 'Model comparison\\nhigher is better'}, xlabel='elpd_loo (log)', ylabel='ranked models'>"
            ]
          },
          "metadata": {},
          "execution_count": 19
        },
        {
          "output_type": "display_data",
          "data": {
            "text/plain": [
              "<Figure size 600x600 with 1 Axes>"
            ],
            "image/png": "[encoded data removed]"
          },
          "metadata": {}
        }
      ]
    },
    {
      "cell_type": "markdown",
      "source": [
        "# **Conclusion**\n",
        "We see that the model that was a B-spline with BMI and age interactions has the highest elpd_loo value! To me, this makes sense, as those are the most obvious reasons a person would need to go to the hospital -- they're indicators of a degrading body that needs more medical support.\n",
        "\n",
        "Something I also noticed was while most models had a slighly more complex 'w' shape, the polynomial model, being simpler than the B-spline models, was more of a v-shape, disregarding the surge of medical charges at ~35 BMI.\n",
        "\n",
        "\n",
        "\n",
        "---\n",
        "\n",
        "\n",
        "## **What went wrong with the other models?**\n",
        "We can go through groups. The models that included kids did pretty badly. While the B-spline that had interactions between all 3 predictors did second best, its clear that including the # of kids someone had was making the predictions worse. I think my initial justification for including # of kids as a predictor wasn't good enough for the model. Additionally, as we can see with the worst performing models of the B-spline of age and kids and the B-spline of BMI and kids, # of kids definetely hindered the model.\n",
        "\n",
        "I think polynomial and having a B-spline using just BMI as a predictor were just to simple for this dataset, which meant it couldn't accurately predict well enough compared to other models that were given better data. Both of them ran with just the BMI data, even though we see Patient Age being very important in prediction models here."
      ],
      "metadata": {
        "id": "g8ASK3arrPH5"
      }
    }
  ]
}