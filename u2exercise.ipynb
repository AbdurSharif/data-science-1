{
  "nbformat": 4,
  "nbformat_minor": 0,
  "metadata": {
    "colab": {
      "provenance": []
    },
    "kernelspec": {
      "name": "python3",
      "display_name": "Python 3"
    },
    "language_info": {
      "name": "python"
    }
  },
  "cells": [
    {
      "cell_type": "markdown",
      "source": [
        "#Unit 2 Exercises: Bayesian Building Blocks\n",
        "\n",
        "This first set of exercises focuses on conceptual understanding of the three parts of bayesian statistics we'll manipulate the most: the prior, likelihood, and posterior.\n",
        "\n",
        "These vocabulary words will help us categorize and explain all statistical models, even models that don't fit inside the standard bayesian framework."
      ],
      "metadata": {
        "id": "0GANUQSIhV2t"
      }
    },
    {
      "cell_type": "markdown",
      "source": [
        "**Task1**:\n",
        "\n",
        "Why do we make guesses? In other words, what is the benefit of trying to predict something we are uncertain about?"
      ],
      "metadata": {
        "id": "4HnMLojUPtOR"
      }
    },
    {
      "cell_type": "markdown",
      "source": [
        "\n",
        "We make guesses or predictions to make better decisions. Even though we might not have perfect information, making predictions helps us anticipate future events, plan accordingly, and adjust our actions. Guessing gives us the most likely outcome from our perspective, which can help us in any type of situation"
      ],
      "metadata": {
        "id": "mDaA1AeLU5dU"
      }
    },
    {
      "cell_type": "markdown",
      "source": [
        "**Task2**:\n",
        "\n",
        "Is is it possible to make a guess/prediction without making an assumption?\n",
        "\n",
        "If yes, then give an example of such a guess, and state whenever that guess would be useful or not.\n",
        "\n",
        "If no, then briefly justify why we need assumptions to make predictions."
      ],
      "metadata": {
        "id": "fMU4F4ZGQqb9"
      }
    },
    {
      "cell_type": "markdown",
      "source": [
        "\n",
        "No, it is not possible to make a guess without making some form of assumption. Assumptions provide the foundation for our guesses. We rely on\n",
        "patterns or probable outcomes to formulate what will happen next. Those patterns or probable outcomes are our assumptions.\n"
      ],
      "metadata": {
        "id": "JuBQVSQ0U-cD"
      }
    },
    {
      "cell_type": "markdown",
      "source": [
        "**Task3**:\n",
        "\n",
        "Should we use all the available information we have to make a guess/prediction? Justify your answer."
      ],
      "metadata": {
        "id": "8iIogaaJQEfl"
      }
    },
    {
      "cell_type": "markdown",
      "source": [
        "Yes, we should generally use all the available information to make a guess, as any new information, however big or small, will contribute to the end prediction. If we omit certain data, it can skew any conclusions we make. However, we shouldn't use misleading information, as it can lead us away from the truth."
      ],
      "metadata": {
        "id": "v8zljy-5QXSd"
      }
    },
    {
      "cell_type": "markdown",
      "source": [
        "**Task4**:\n",
        "\n",
        "What is a prior? How are priors related to\n",
        "- context?\n",
        "- assumptions?\n",
        "- predictions?"
      ],
      "metadata": {
        "id": "TYwtd8lPRFbj"
      }
    },
    {
      "cell_type": "markdown",
      "source": [
        "A prior is our formalized initial beliefs based on assumptions we create without any new expiremental data.\n",
        "\n",
        "Context: The context in which we are working helps define the prior and tells us which values we should expect to make a prior about\n",
        "\n",
        "Assumptions: Priors reflect our assumptions about the situation. We use assumptions to create our priors. This can be historical data, opinions, etc.\n",
        "\n",
        "Predictions: Priors serve as the starting point for making predictions, whihc we create with past data."
      ],
      "metadata": {
        "id": "d6vRRh3wVE5v"
      }
    },
    {
      "cell_type": "markdown",
      "source": [
        "**Task5**:\n",
        "\n",
        "What is a likelihood? How are likelihoods related to:\n",
        "\n",
        "- context?\n",
        "- assumptions?\n",
        "- predictions?"
      ],
      "metadata": {
        "id": "v6NnzoV_RWo6"
      }
    },
    {
      "cell_type": "markdown",
      "source": [
        "Likelihood tells us how well different parameter values explain the observed data.\n",
        "\n",
        "Context: The likelihood depends on the context in which the data was collected, like swimming or free throws.\n",
        "\n",
        "Assumption: Assumptions about the data, such as its distribution under different conditions, directly affect the likelihood. For example, if we assume no air resistance vs if we assume air resistance, it changes the problem.\n",
        "\n",
        "Predictions: The likelihood combines with the prior to make updated predictions."
      ],
      "metadata": {
        "id": "VK5s3vZpVGLc"
      }
    },
    {
      "cell_type": "markdown",
      "source": [
        "**Task6**:\n",
        "\n",
        "What is a posterior? How are posteriors related to:\n",
        "\n",
        "- context?\n",
        "- assumptions?\n",
        "- predictions?"
      ],
      "metadata": {
        "id": "eYSYtG_2Rowf"
      }
    },
    {
      "cell_type": "markdown",
      "source": [
        "A posterior is the updated belief of the parameter after observing the new collected/interpretted data.\n",
        "\n",
        "Context: The posterior reflects the context because it incorporates both prior beliefs made from the context and the data specific to the situation.\n",
        "\n",
        "Assumptions: The assumptions underlying the prior and likelihood influence the posterior. Again, assuming air resistance will change the posterior while assuming no air resistance will create a different posterior.\n",
        "\n",
        "Predictions: The posterior gives us the most accurate information for any predictions we will make, so it is very important for making predictions."
      ],
      "metadata": {
        "id": "T04x1VteVHH1"
      }
    },
    {
      "cell_type": "markdown",
      "source": [
        "**Task7**:\n",
        "\n",
        "Why would anyone want to define a prior and a likelihood in order to make a prediction? In other words, what's the point of using a likelihood and a prior to form a posterior?"
      ],
      "metadata": {
        "id": "CMAm4LqBXYxG"
      }
    },
    {
      "cell_type": "markdown",
      "source": [
        "Defining a prior and likelihood allows us to combine prior knowledge and new data to create a posterior conclusion. This will allow us to combine past information and new evidence, ensuring that our predictions are grounded in both prior understanding and current observations."
      ],
      "metadata": {
        "id": "rag62h9DVIDN"
      }
    },
    {
      "cell_type": "markdown",
      "source": [
        "## Bayes' Rule Math\n",
        "\n",
        "The following exrcises will be graded for completion, with no accuracy component. That said, correct answers below will replace mistakes in tasks 1-7.\n",
        "\n"
      ],
      "metadata": {
        "id": "BNrO2k34SGoF"
      }
    },
    {
      "cell_type": "markdown",
      "source": [
        "### Mathematical Framing\n",
        "\n",
        "In this series of exercises, we'll calculate a probability using the full version of Bayes' Rule.\n",
        "\n",
        "The version seen in the notes, $p(θ|y) ∝ p(y|θ)p(θ)$, ignores the normalizing constant found in the full equation: $p(θ|y) = \\frac{p(y|θ)p(θ)}{p(y)}$.\n",
        "\n",
        "As stated in the notes, in practical applications we don't need to worry too much about $p(y)$, AKA the marginal likelihood, AKA the prior predictive density, AKA the normalizing constant. And when we do, we'll approximate like we do everything else.\n",
        "\n",
        "But we these exercises are closer to theoretical abstraction, rather than practicality.\n",
        "\n",
        "So why do them?\n",
        "\n",
        "These exercises will hopefully help you gain additional inuition for probability, and how it behaves.\n",
        "\n",
        "As you work through the exercises, consider $p(y)$, the  prior predictive density, and why using it to divide $p(y|θ)p(θ)$ gurantees we get a probability.\n",
        "\n",
        "Additonaly, wonder about:\n",
        "- the likelihood $p(y|θ)$\n",
        "- the prior $p(θ)$,\n",
        "- why multiplying the likelihood and piror (almost) gives us the posterior $p(θ|y)$."
      ],
      "metadata": {
        "id": "w7KMRJa_TmdF"
      }
    },
    {
      "cell_type": "markdown",
      "source": [
        "###Problem Setting\n",
        "\n",
        "Imagine we have a bag of red and white marbles, identical in every other way. Let's assume there are 4 total marbles, we can't see inside the bag, and when we grab a ball from the bag, we replace it and shake the bag to scramble the balls.\n",
        "\n",
        "Additionally:\n",
        "\n",
        "- we draw three balls in this order: red-white-red. Call these the data, $y$. Remember, we replaced the ball and shook the bag between each draw.\n",
        "- we are interested in finding the true proportion of red balls in the bag, called $θ$"
      ],
      "metadata": {
        "id": "ab7E9RIuj2OX"
      }
    },
    {
      "cell_type": "markdown",
      "source": [
        "**Task8**:\n",
        "\n",
        "Write out all the possible color compositions of the marbless in the bag, before we observed our data $y$.\n",
        "\n",
        "Let each of these possible color compositions be a possible $θ$, or true proportion of red marbles."
      ],
      "metadata": {
        "id": "AmHTGWQQHuAD"
      }
    },
    {
      "cell_type": "markdown",
      "source": [
        "Possible color compositions:\n",
        "\n",
        "\n",
        "*   θ1 = 1.00 Red - RRRR\n",
        "*   θ2 = 0.75 Red - RRRW\n",
        "*   θ3 = 0.50 Red - RRWW\n",
        "*   θ4 = 0.25 Red - RWWW\n",
        "*   θ5 = 0.00 Red - WWWW\n",
        "\n",
        "\n",
        "\n",
        "\n",
        "\n"
      ],
      "metadata": {
        "id": "EkPylHwCVK72"
      }
    },
    {
      "cell_type": "markdown",
      "source": [
        "**Task9**:\n",
        "\n",
        "Which color compositions are possible after seeing the data $y$?"
      ],
      "metadata": {
        "id": "-TELvcnVH8N2"
      }
    },
    {
      "cell_type": "markdown",
      "source": [
        "We see there is at least 1 red marble and 1 white marble. As such:\n",
        "\n",
        "\n",
        "*   θ1 = 0.75 Red - RRRW\n",
        "*   θ2 = 0.50 Red - RRWW\n",
        "*   θ3 = 0.25 Red - RRRW\n",
        "\n",
        "\n",
        "\n",
        "\n",
        "\n",
        "\n"
      ],
      "metadata": {
        "id": "7q6nUOdNMN9Z"
      }
    },
    {
      "cell_type": "markdown",
      "source": [
        "**Task10**:\n",
        "\n",
        "How many ways can you select red-white-red, assuming that there are 2 red marbles and 2 white marbles?"
      ],
      "metadata": {
        "id": "vIjecZm7OVcy"
      }
    },
    {
      "cell_type": "markdown",
      "source": [
        "The possible combinations are:\n",
        "\n",
        "*   Red 1, White 1, Red 2\n",
        "*   Red 1, White 2, Red 2\n",
        "*   Red 2, White 1, Red 1\n",
        "*   Red 2, White 2, Red 1\n",
        "*   Red 1, White 1, Red 1\n",
        "*   Red 1, White 2, Red 1\n",
        "*   Red 2, White 1, Red 2\n",
        "*   Red 2, White 2, Red 2\n",
        "\n",
        "So there are 8 possible combinations.\n",
        "\n",
        "\n",
        "\n"
      ],
      "metadata": {
        "id": "p2vDjMVIXtWR"
      }
    },
    {
      "cell_type": "markdown",
      "source": [
        "**Task11**:\n",
        "\n",
        "How many different ways can you select three balls so that order matters, given that there are 2 red marbles and 2 white marbles?"
      ],
      "metadata": {
        "id": "Bs7tx0pXhUZy"
      }
    },
    {
      "cell_type": "markdown",
      "source": [
        "The possible permutations are:\n",
        "\n",
        "Use n^r, with n = 4 and r = 3, as the # of permutations include repititions. You end up with 64 possible ways."
      ],
      "metadata": {
        "id": "69ScN4NYh6ks"
      }
    },
    {
      "cell_type": "markdown",
      "source": [
        "**Task12**:\n",
        "\n",
        "What's the probablity you select red-white-red, given that there are 2 red marbles and 2 white marbles?\n",
        "\n",
        "Stated differently, Find the likelihood $p(y|θ)$, where $θ=RRWW$"
      ],
      "metadata": {
        "id": "k87Z69qUg9KV"
      }
    },
    {
      "cell_type": "markdown",
      "source": [
        "As seen from Task 11, 4 different permutations of RWR.\n",
        "As seen from Task 12, 24 different permutations of θ.\n",
        "\n",
        "8/64 = 0.125\n",
        "\n",
        "Probability of 0.125 of drawing RWR given 2 red marbles and 2 white marbles."
      ],
      "metadata": {
        "id": "v5bdqu1nri3Y"
      }
    },
    {
      "cell_type": "markdown",
      "source": [
        "**Task13**:\n",
        "\n",
        "Find:\n",
        "\n",
        "- $p(y|WWWW)$\n",
        "- $p(y|RWWW)$\n",
        "- $p(y|RRWW)$\n",
        "- $p(y|RRRW)$\n",
        "- $p(y|RRRR)$"
      ],
      "metadata": {
        "id": "j6e9WP49sZJh"
      }
    },
    {
      "cell_type": "markdown",
      "source": [
        "\n",
        "\n",
        "- $p(y|WWWW)$ - Impossible - 0 red marbles, need 2\n",
        "- $p(y|RWWW)$ - 1/4 (First red marble) * 3/4 (First white marble) * 1/4 (Last red marble) = 3/64 = ~0.047\n",
        "- $p(y|RRWW)$ - From Task 12 - 0.125\n",
        "- $p(y|RRRW)$ - 3/4 (First red marble) * 1/4 (First white marble) * 3/4 (Last red marble) = 9/64 = ~0.14\n",
        "- $p(y|RRRR)$ - Impossible - 0 white marbles, need 1\n",
        "\n",
        "\n"
      ],
      "metadata": {
        "id": "NbSC4dj_tf4Y"
      }
    },
    {
      "cell_type": "markdown",
      "source": [
        "**Task14**:\n",
        "\n",
        "Find the probablity of getting red-white-red, $p(y)$"
      ],
      "metadata": {
        "id": "qxSVk_Sjv8Gk"
      }
    },
    {
      "cell_type": "markdown",
      "source": [
        "We add up all of our probabilities divided by 1/5, as each proportion of red-to-white marbles has a 1/5 probability of occuring.\n",
        "\n",
        "8/64 * 1/5 + 9/64 * 1/5 + 3/64 * 1/5 = 20/64 * 1/5 = 4/64\n"
      ],
      "metadata": {
        "id": "N3PVjOk5wDZT"
      }
    },
    {
      "cell_type": "markdown",
      "source": [
        "**Task15**:\n",
        "\n",
        "After observing a draw of red-white-red, find the probability that there are two red marbles and two white marbles in the bag.\n",
        "\n",
        "In other words, find $p(θ|y)$, where $θ=RRWW$. <sup><sub>Assume there is no prior for this problem; more precisely, $p(θ)=1$ for this problem. </sub></sup>"
      ],
      "metadata": {
        "id": "CYoWtEwxyNB-"
      }
    },
    {
      "cell_type": "markdown",
      "source": [
        "Bayes' Theorom = ![Screenshot 2024-09-11 at 11.38.55 PM.png](data:image/png;base64,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)\n",
        "\n",
        "And so, in the context of this marble problem: P(θ | y) = (0.125 * 1/5) / (4/64) = 0.4"
      ],
      "metadata": {
        "id": "WxX-o3Uuy9eR"
      }
    },
    {
      "cell_type": "markdown",
      "source": [
        "**Task16**:\n",
        "\n",
        "Story time: The marble factory produces bags of four marbles. They want to make red marbles rare, so that people will get excited about them.  Therefore, for each 1 bag containing four red, they made 2 that contain three red, 3 that contain two red, 4 that contain one red, and 5 that contain zero red.\n",
        "\n",
        "With this new prior information, find $p(θ|y)$, where $θ=RRWW$."
      ],
      "metadata": {
        "id": "VgMdbaKW1o39"
      }
    },
    {
      "cell_type": "markdown",
      "source": [
        "Probability of RRWW = 3/15 = 1/5. Doesn't change the probability of RRWW, so given Bayes' Theorom it wouldn't change 𝑝(θ|𝑦). It stays as 0.4\n"
      ],
      "metadata": {
        "id": "UMMrUAIs3Dsi"
      }
    },
    {
      "cell_type": "markdown",
      "source": [
        "**Task17**:\n",
        "\n",
        "Write down similarities and differences between this marble example, and the VIctor Wembanyama FT example."
      ],
      "metadata": {
        "id": "ABn_s24K4K0H"
      }
    },
    {
      "cell_type": "markdown",
      "source": [
        "Similarities: We continue to update our beliefs with more and more observed data, which is what we did with Wemby. We utilized priors, posteriors, and changed our assumptions throughout this expirement.\n",
        "\n",
        "Differences: The prior in the marble example is based on specific proportions of red and white marbles, versus the prior in the Wemby expirement being based on historical shooting data. Also, we have a fixed number of marbles, so when calculating the proportion of red marbles, it is discrete. Wemby's data isn't as we don't know how many free throws he'll make.\n"
      ],
      "metadata": {
        "id": "CAmT3Bd34fhc"
      }
    }
  ]
}